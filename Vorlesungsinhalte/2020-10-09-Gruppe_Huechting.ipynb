{
 "cells": [
  {
   "cell_type": "markdown",
   "metadata": {},
   "source": [
    "## Aufgabe:\n",
    "Schreiben Sie eine Funktion, die \n",
    "den Benutzer so lange nach Zahlen fragt,\n",
    "bis er eine 0 eingibt. \n",
    "Anschließend soll die Summe der Zahlen zurückgeliefert werden."
   ]
  },
  {
   "cell_type": "code",
   "execution_count": null,
   "metadata": {},
   "outputs": [],
   "source": [
    "def summe():\n",
    "  # Variable für das (Zwischen)ergebnis\n",
    "  ergebnis = 0\n",
    "\n",
    "  # Variable für die Eingabe\n",
    "  eingabe = int(input())\n",
    "\n",
    "  # Solange der Benutzer keine 0 eingegeben hat:\n",
    "  # Solange Eingabe != 0\n",
    "  while eingabe != 0:\n",
    "    \n",
    "    # Eingabe auf die Zwischenergebnis addieren.\n",
    "    ergebnis += eingabe\n",
    "    \n",
    "    # Nach neuer Zahl fragen\n",
    "    eingabe = int(input())\n",
    "  \n",
    "  return ergebnis\n",
    "\n",
    "x = summe()"
   ]
  },
  {
   "cell_type": "markdown",
   "metadata": {},
   "source": [
    "### Erklärung:\n",
    "\n",
    "In der Funktion definieren wir zuerst eine Variable für das Ergebnis, diese hat am Anfang den Wert 0.\n",
    "Dann definieren wir eine Variable, in die die Eingabe des Benutzers geschrieben werden soll.\n",
    "Die Zeile `eingabe = int(input())` definiert diese Variable und fragt auch sofort den Benutzer nach der ersten Zahl.\n",
    "\n",
    "Dann kommt eine `while`-Schleife, die so lange läuft, wie die Variable `eingabe` nicht Null ist.\n",
    "In jedem Durchlauf der Schleife wird die Eingabe auf das (Zwischen-)Ergebnis addiert und dann nach der\n",
    "nächsten Eingabe gefragt.\n",
    "\n",
    "Die ganz untere Zeile führt die Funktion `summe()` aus und speichert ihr Ergebnis in einer Variable `x`.\n",
    "Wir hätten hier auch etwas wie `print(summe())` schreiben können, um die Summe sofort sehen zu können.\n",
    "Diese Zeile definiert stattdessen eine Variable, die weiter verwendet oder angezeigt werden kann:"
   ]
  },
  {
   "cell_type": "code",
   "execution_count": null,
   "metadata": {},
   "outputs": [],
   "source": [
    "x"
   ]
  },
  {
   "cell_type": "markdown",
   "metadata": {},
   "source": [
    "## Aufgabe:\n",
    "Schreiben Sie eine Funktion, die \n",
    "den Benutzer so lange nach Zahlen fragt,\n",
    "bis er ein 'x' eingibt. \n",
    "Anschließend soll die Summe der Zahlen zurückgeliefert werden."
   ]
  },
  {
   "cell_type": "code",
   "execution_count": null,
   "metadata": {},
   "outputs": [],
   "source": [
    "def summe():\n",
    "  # Variable für das (Zwischen)ergebnis\n",
    "  ergebnis = 0\n",
    "\n",
    "  # Variable für die Eingabe\n",
    "  eingabe = input()\n",
    "\n",
    "\n",
    "  # Solange der Benutzer keine 0 eingegeben hat:\n",
    "  # Solange Eingabe != 0\n",
    "  while eingabe != 'x':\n",
    "    \n",
    "    # Eingabe auf die Zwischenergebnis addieren.\n",
    "    ergebnis += int(eingabe)\n",
    "    \n",
    "    # Nach neuer Zahl fragen\n",
    "    eingabe = input()\n",
    "  \n",
    "  return ergebnis\n",
    "\n",
    "\n",
    "x = summe()"
   ]
  },
  {
   "cell_type": "markdown",
   "metadata": {},
   "source": [
    "### Erklärung:\n",
    "\n",
    "Die neue Variante dieser Funktion ist fast identisch mit der alten.\n",
    "Der einzige Unterschied ist, dass wir beim Einlesen der Eingabe nicht sofort das Eingegebene als Zahl interpretieren, sondern es zunächst als String behalten.\n",
    "Daher wird hier aus der obigen Eingabezeile nun `eingabe = input()`,\n",
    "das `int(...)` wird weggelassen.\n",
    "\n",
    "Die gelesene Eingabe ist nun also zunächst ein String und wir können es\n",
    "im Kopf der `while`-Schleife mit dem Buchstaben `x` vergleichen.\n",
    "Damit die Rechnung funktioniert, muss die Eingabe nun allerdings beim Aufsummieren noch\n",
    "in eine Zahl konvertiert werden.\n",
    "Daher die neue Additionsanweisung: `ergebnis += int(eingabe)`.\n"
   ]
  },
  {
   "cell_type": "markdown",
   "metadata": {},
   "source": [
    "## Aufgabe:\n",
    "Schreiben Sie eine Funktion, die \n",
    "den Benutzer so lange nach Zahlen fragt,\n",
    "bis er einen String eingibt, der nicht als Zahl interpretiert werden kann. \n",
    "Anschließend soll die Summe der Zahlen zurückgeliefert werden."
   ]
  },
  {
   "cell_type": "markdown",
   "metadata": {},
   "source": [
    "Diese Aufgabe haben wir gelöst, indem wir nacheinander zwei Hilfsfunktionen geschrieben haben."
   ]
  },
  {
   "cell_type": "markdown",
   "metadata": {},
   "source": [
    "### Lösung Teil 1:\n",
    "\n",
    "Wir beginnen mit einer Funktion, die einen String erwartet und prüft, ob es sich um eine Ziffer handelt.\n",
    "D.h. um eines der Zeichen `'0'`, `'1'`, `'2'`, ..., `'9'`."
   ]
  },
  {
   "cell_type": "markdown",
   "metadata": {},
   "source": [
    "In der Vorlesung haben wir verschiedene Varianten dieser Funktion durchgesprochen.\n",
    "Die einfachste Version prüft genau die obige Bedingung in einer `if`-Anweisung:"
   ]
  },
  {
   "cell_type": "code",
   "execution_count": null,
   "metadata": {},
   "outputs": [],
   "source": [
    "def ist_ziffer(s):\n",
    "    if s == \"0\" or s == \"1\" or s == \"2\" or s == \"3\" or s == \"4\" or s == \"5\" or s == \"6\" or s == \"7\" or s == \"8\" or s == \"9\":\n",
    "        return True\n",
    "    else:\n",
    "        return False"
   ]
  },
  {
   "cell_type": "markdown",
   "metadata": {},
   "source": [
    "Man beachte, dass hier nicht `s == 0`, `s == 1` etc. verwendet werden, sondern dass die Ziffern in\n",
    "Anführungszeichen stehen. `s` sollte laut der Aufgabenstellung ein String sein, also muss es auch mit\n",
    "Strings verglichen werden.\n",
    "Dies ist auch nachvollziehbar, denn das Fernziel ist ja, einen String vorab zu prüfen, ob er in eine\n",
    "Zahl umgewandelt werden kann."
   ]
  },
  {
   "cell_type": "markdown",
   "metadata": {},
   "source": [
    "Eine etwas kürzere Fassung ist die folgende, bei der die `if`-Anweisung entfernt wurde:"
   ]
  },
  {
   "cell_type": "code",
   "execution_count": null,
   "metadata": {},
   "outputs": [],
   "source": [
    "def ist_ziffer(s):\n",
    "    return s == \"0\" or s == \"1\" or s == \"2\" or s == \"3\" or s == \"4\" or s == \"5\" or s == \"6\" or s == \"7\" or s == \"8\" or s == \"9\""
   ]
  },
  {
   "cell_type": "markdown",
   "metadata": {},
   "source": [
    "Diese Verkürzung ist möglich, weil die Bedingung, die in einem `if` geprüft wird, ja selbst\n",
    "schon entweder zu `True` oder zu `False` ausgewertet wird.\n",
    "Es ist also nicht notwendig, diese noch einmal in einem `if` zu prüfen, wenn dann genau dieser Wert zurückgegeben wird.\n",
    "\n",
    "Eine noch kürzere und übersichtliche Variante ist diese:"
   ]
  },
  {
   "cell_type": "code",
   "execution_count": null,
   "metadata": {},
   "outputs": [],
   "source": [
    "def ist_ziffer(s):\n",
    "  ziffern = [\"0\", \"1\", \"2\", \"3\", \"4\", \"5\", \"6\", \"7\", \"8\", \"9\"]\n",
    "  return s in ziffern"
   ]
  },
  {
   "cell_type": "markdown",
   "metadata": {},
   "source": [
    "Hier wird zuerst eine Liste der Strings erstellt, die wir als Ziffern akzeptieren würden.\n",
    "Der Ausdruck `s in ziffern` wird genau dann wahr, wenn `s` einem der Elemente aus der Liste\n",
    "`ziffern` gleicht."
   ]
  },
  {
   "cell_type": "markdown",
   "metadata": {},
   "source": [
    "### Lösung Teil 2:\n",
    "\n",
    "Mit Hilfe der Funktion `ist_ziffer()` definieren wir nun eine weitere Hilfsfunktion `ist_zahl()`,\n",
    "die einen String erwartet und `True` zurückliefert, wenn es sich dabei um eine Folge von Ziffern handelt."
   ]
  },
  {
   "cell_type": "code",
   "execution_count": null,
   "metadata": {},
   "outputs": [],
   "source": [
    "def ist_zahl(s):\n",
    "\n",
    "  # Sonderfall: s ist leer\n",
    "  if s == \"\":\n",
    "    return False\n",
    "\n",
    "  # Für jeden Buchstaben in s (der Name sei b)\n",
    "  # prüfen wir, ob s eine Ziffer ist.\n",
    "  for b in s:\n",
    "    if ist_ziffer(b) == False:\n",
    "      return False\n",
    "  return True"
   ]
  },
  {
   "cell_type": "markdown",
   "metadata": {},
   "source": [
    "Die Schleife in dieser Funktion läuft durch den String `s`.\n",
    "In jedem Durchlauf heißt der aktuelle Buchstabe `b`.\n",
    "Wir nutzen dabei die Funktion `ist_ziffer()`, um zu prüfen, ob `b` eine Ziffer ist.\n",
    "Sobald einer der Buchstaben keine Ziffer ist, kann der gesamte String keine Zahl\n",
    "mehr sein. Daher brechen wir die Schleife und auch die gesamte Funktion\n",
    "dann vorzeitig mit der Anweisung `return False` ab.\n",
    "\n",
    "Wenn die Schleife bis zum Ende läuft, haben wir tatsächlich nur \n",
    "Ziffern gefunden. Dann beenden wir die Funktion mit `return True`."
   ]
  },
  {
   "cell_type": "markdown",
   "metadata": {},
   "source": [
    "### Lösung Teil 3:"
   ]
  },
  {
   "cell_type": "markdown",
   "metadata": {},
   "source": [
    "Mit der Hilfsfunktion `ist_zahl()` ist es nun ganz leicht,\n",
    "die Summenfunktion entsprechend der Aufgabenstellung umzubauen.\n",
    "Wir nehmen die Summenfunktion, die für den Abbruch auf `'x'` prüft und\n",
    "ersetzen den Test `eingabe == 'x'` durch eine Anwendung von `ist_zahl()`:"
   ]
  },
  {
   "cell_type": "code",
   "execution_count": null,
   "metadata": {},
   "outputs": [],
   "source": [
    "def summe():\n",
    "  ergebnis = 0\n",
    "  eingabe = input()\n",
    "\n",
    "  while ist_zahl(eingabe):\n",
    "    ergebnis += int(eingabe)\n",
    "    eingabe = input()\n",
    "  \n",
    "  return ergebnis"
   ]
  },
  {
   "cell_type": "code",
   "execution_count": null,
   "metadata": {},
   "outputs": [],
   "source": [
    "summe()"
   ]
  },
  {
   "cell_type": "markdown",
   "metadata": {},
   "source": [
    "### Anmerkung:\n",
    "In der Vorlesung haben wir die drei Teilfunktionen in einer eigenen Python-Datei geschrieben und die Funktionen mittels `import` in `main.py` eingebunden. In der Hauptdatei stehen keine Funktionen, sondern nur einige `print()`-Anweisungen,\n",
    "mit denen wir das Verhalten der Funktionen getestet haben.\n",
    "\n",
    "Die Originaldateien aus der Vorlesung befinden sich im Unterordner `2020-10-09-Gruppe_Huechting`."
   ]
  },
  {
   "cell_type": "markdown",
   "metadata": {},
   "source": [
    "## Beispiel zu `if-then-else`:\n",
    "\n",
    "Wir haben in der Vorlesung die rekursive Fakultätsfunktion als weiteres Beispiel zu bedingten Sprüngen\n",
    "besprochen. Diese wurde auch im Erklärungs-Notebook zu den Grundlagen behandelt.\n",
    "Hier zwei Varianten, diese Funktion hinzuschreiben:"
   ]
  },
  {
   "cell_type": "code",
   "execution_count": null,
   "metadata": {},
   "outputs": [],
   "source": [
    "def factorial(n):\n",
    "  if n == 0:\n",
    "    return 1\n",
    "  else:\n",
    "    return n * factorial(n-1)\n",
    "\n",
    "def factorial2(n):\n",
    "  return 1 if n == 0 else n * factorial2(n-1)"
   ]
  },
  {
   "cell_type": "markdown",
   "metadata": {},
   "source": [
    "## Beispiele zu Listen\n",
    "\n",
    "Es folgen hier noch die Beispiele aus der Vorlesung zu Listen und wie man sie erzeugen/benutzen kann.\n",
    "\n",
    "Genauere Erklärungen folgen später hier oder in einem zentraleren Notebook."
   ]
  },
  {
   "cell_type": "code",
   "execution_count": null,
   "metadata": {},
   "outputs": [],
   "source": [
    "# Listen\n",
    "\n",
    "l1 = [1,3,5,7,9]\n",
    "\n",
    "# Gesamte Liste ausgeben (Python-Listennotation)\n",
    "print( l1 )\n",
    "print()\n",
    "\n",
    "# Liste an Stelle 3 (4. Stelle) ausgeben\n",
    "print( l1[3] )\n",
    "print()\n",
    "\n",
    "# Liste an letzter Stelle ausgeben\n",
    "print( l1[-1] )\n",
    "print()\n",
    "\n",
    "# Liste von Stelle 1 bis 2 (nicht mehr 3)\n",
    "print(l1[1:3])\n",
    "print()\n",
    "\n",
    "# Weitere Slices\n",
    "print( l1[:3] )\n",
    "print( l1[3:] )\n",
    "print( l1[:-1] )\n",
    "print()\n",
    "\n",
    "# Gesamte Liste untereinander ausgeben\n",
    "# (unflexible Methode)\n",
    "print( l1[0] )\n",
    "print( l1[1] )\n",
    "print( l1[2] )\n",
    "print( l1[3] )\n",
    "print( l1[4] )\n",
    "\n",
    "print()\n",
    "# Besser: Als Schleife mit Zähler\n",
    "for i in range(len(l1)):\n",
    "  print( l1[i] )\n",
    "\n",
    "print()\n",
    "\n",
    "# Noch besser: Als For-Each-Schleife\n",
    "for element in l1:\n",
    "  print ( element )\n",
    "\n",
    "# Liste mit jeweils dem doppelten aus l1\n",
    "l2 = [ 2 * element for element in l1 ]\n",
    "print(l2)\n",
    "\n",
    "l3 = [ i for i in range(100) if i % 3 == 0 ]\n",
    "print(l3)\n",
    "\n",
    "def ist_prim(n):\n",
    "  if n < 2:\n",
    "    return False\n",
    "  for i in range(2,n):\n",
    "    if n % i == 0:\n",
    "      return False\n",
    "  return True\n",
    "l4 = [ i for i in range(30) if ist_prim(i)]\n",
    "print(l4)\n",
    "\n",
    "def ist_prim2(n):\n",
    "  teiler = [i for i in range(1,n) if n % i == 0]\n",
    "  return len(teiler) == 1\n",
    "\n",
    "print(ist_prim2(37))"
   ]
  },
  {
   "cell_type": "code",
   "execution_count": null,
   "metadata": {},
   "outputs": [],
   "source": []
  }
 ],
 "metadata": {
  "kernelspec": {
   "display_name": "Python 3",
   "language": "python",
   "name": "python3"
  },
  "language_info": {
   "codemirror_mode": {
    "name": "ipython",
    "version": 3
   },
   "file_extension": ".py",
   "mimetype": "text/x-python",
   "name": "python",
   "nbconvert_exporter": "python",
   "pygments_lexer": "ipython3",
   "version": "3.8.2"
  }
 },
 "nbformat": 4,
 "nbformat_minor": 4
}
