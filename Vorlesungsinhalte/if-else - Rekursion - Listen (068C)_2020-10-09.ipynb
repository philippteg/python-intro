{
 "metadata": {
  "language_info": {
   "codemirror_mode": {
    "name": "ipython",
    "version": 3
   },
   "file_extension": ".py",
   "mimetype": "text/x-python",
   "name": "python",
   "nbconvert_exporter": "python",
   "pygments_lexer": "ipython3",
   "version": 3
  },
  "orig_nbformat": 2
 },
 "nbformat": 4,
 "nbformat_minor": 2,
 "cells": [
  {
   "source": [
    "# Vorlesungsinhalte 09.10.2020 (Raum 068C)"
   ],
   "cell_type": "markdown",
   "metadata": {}
  },
  {
   "source": [
    "## Bedingte Anweisung/Verzweigung (`if` und `else`)\n",
    "Nicht immer ist der \"Programmflow\" linear und im Vorhinein festgelegt. Beispielsweise muss das Programm auf unterschiedliche Benutzereingaben auch unterschiedlich reagieren. Dafür gibt es die sogenannten bedingten Anweisungen und Verzweigungen. Im übertragenen Sinne ist das Konstrukt wie eine Weggabelung zu verstehen - je nachdem, welche Bedingung (z. B. \"Ist heute Mittwoch?\") erfüllt ist, wird eine andere \"Strecke\" gefahren.\n",
    "\n",
    "Über das Schlüsselwort `if` können wir eine konkrete Bedingung abfragen, also in diesem Fall `ist n gleich 42?`. Dafür können wir verschiedene Vergleichsoperatoren verwenden. Für die Gleichheit muss `==` verwendet werden, da `=` schon für die Zuweisung (Speichern eines Wertes in einer Variable, z. B. `x = 5`) reserviert ist. Außerdem kann dieser mit den bekannten Vergleichsoperatoren aus der Mathematik kombiniert werden: `<` (kleiner), `>` (größer), `<=` (kleiner oder gleich), `!=` (ungleich) usw."
   ],
   "cell_type": "markdown",
   "metadata": {}
  },
  {
   "source": [
    "**Beispiel:** Der Benutzer soll eine Ganzzahl `n` erraten und das Programm soll überprüfen, ob sie der gesuchten Zahl `42` entspricht. Dafür definieren wir eine Funktion, die `True` zurückgeben soll, falls der Benutzer die richtige Zahl `n` geraten hat, ansonsten `False`."
   ],
   "cell_type": "markdown",
   "metadata": {}
  },
  {
   "cell_type": "code",
   "execution_count": null,
   "metadata": {},
   "outputs": [],
   "source": [
    "def zahl_raten(n):\n",
    "  if n == 42: # falls im Parameter 'n' der Wert '42' gespeichert ist ...\n",
    "    return True # ... beende die Funktion und gebe `True` (wahr) zurück\n",
    "  else: # in allen anderen Fällen ...\n",
    "    return False # ... beende die Funktion und gebe `False` (falsch) zurück\n",
    "\n",
    "print(zahl_raten(42))"
   ]
  },
  {
   "source": [
    "Vor allem wenig komplexe Bedingungen, die über `if` und `else` abgefragt werden sollen, lassen sich teilweise vereinfachen:"
   ],
   "cell_type": "markdown",
   "metadata": {}
  },
  {
   "cell_type": "code",
   "execution_count": null,
   "metadata": {},
   "outputs": [],
   "source": [
    "def zahl_raten_vereinfacht(n):\n",
    "  return n == 42 # wird entweder zu 'True' (falls n = 42) oder 'False' (falls n != 42)\n",
    "\n",
    "print(zahl_raten_vereinfacht(42))"
   ]
  },
  {
   "source": [
    "Natürlich können auch mehrere Bedingungen bzw. Ausdrücke miteinander kombiniert werden. Dafür gibt es die sogenannten booleschen Operatoren. `or` (oder) bedeutet, dass entweder der linke oder der rechte oder beide Ausdrücke wahr sein müssen, damit der gesamte Ausdruck wahr ist. Bei `and` müssen sowohl der linke als auch der rechte Ausdruck wahr sein, damit der gesamte Ausdruck wahr wird. Mit `not` kann ein Ausdruck invertiert werden, `not True` ist also `False` und `not False` is `True`.\n",
    "\n",
    "**Beispiel anhand einer Wahrheitstabelle:**\n",
    "\n",
    "| Ausdruck `a` | Ausdruck `b` |  `a and b` |   `a or b` |\n",
    "| :-: | :-: | :-: | :-: |\n",
    "| False | False | **False** |    **False** |\n",
    "| False | True | **False** |     **True** |\n",
    "| True | False | **False** |     **True** |\n",
    "| True | True | **True** |   **True** |"
   ],
   "cell_type": "markdown",
   "metadata": {}
  },
  {
   "source": [
    "Möchte man zum Beispiel prüfen, ob `n == 42`, und falls nicht, ob `n == 0` ist, kann man das so lösen:"
   ],
   "cell_type": "markdown",
   "metadata": {}
  },
  {
   "cell_type": "code",
   "execution_count": null,
   "metadata": {},
   "outputs": [],
   "source": [
    "n = 1\n",
    "if n == 42 or n == 0:\n",
    "    if n == 42:\n",
    "        print(\"Du hast die Antwort auf alle Fragen gefunden!\")\n",
    "    else:\n",
    "        print(\"'NICHTS' soll die Antwort sein?\") # da 'n' nicht '42' ist und wir uns in der ersten Bedingung befinden, kann es nur noch '0' sein    \n",
    "else: # für alle anderen Werte von 'n':\n",
    "    print(\"Das war leider falsch.\")"
   ]
  },
  {
   "source": [
    "Man sieht auf den ersten Blick, dass der Code nicht besonders übersichtlich ist. Mit vielen Bedingungen kommt man schnell durcheinander, welches `else` zu welchem `if` gehört. Deshalb gibt es für solche Fälle eine weitere Variante: `elif` (else if). "
   ],
   "cell_type": "markdown",
   "metadata": {}
  },
  {
   "cell_type": "code",
   "execution_count": null,
   "metadata": {},
   "outputs": [],
   "source": [
    "n = 1\n",
    "if n == 42: # falls 'n' gleich '42' ist\n",
    "    print(\"Du hast die Antwort auf alle Fragen gefunden!\")\n",
    "elif n == 0: # falls 'n' NICHT gleich '42', aber '0' ist\n",
    "    print(\"'NICHTS' soll die Antwort sein?\")\n",
    "else: # alle anderen Werte von 'n'\n",
    "    print(\"Das war leider falsch.\")"
   ]
  },
  {
   "source": [
    "Zudem kann man eine solche Bedingung auch direkt in das `return`-Statement einer Funktion einbauen:"
   ],
   "cell_type": "markdown",
   "metadata": {}
  },
  {
   "cell_type": "code",
   "execution_count": null,
   "metadata": {},
   "outputs": [],
   "source": [
    "def echo(text):\n",
    "  if(len(text) == 0):\n",
    "    return \"Leer\"\n",
    "  else:\n",
    "    return text"
   ]
  },
  {
   "source": [
    "ist das gleiche wie:"
   ],
   "cell_type": "markdown",
   "metadata": {}
  },
  {
   "cell_type": "code",
   "execution_count": null,
   "metadata": {},
   "outputs": [],
   "source": [
    "def echo_einfach(text):\n",
    "  return \"Leer\" if len(text) == 0 else text # Gebe 'Leer' zurück, falls die Länge des Strings in der Variable 'text' 0 ist, ansonsten den Text"
   ]
  },
  {
   "source": [
    "## AUFGABE: Eingaben eines Benutzers aufsummieren\n",
    "Schreiben Sie eine Schleife, die den Benutzer so nach Zahlen fragt, bis er eine Null (0) eingibt. Am Ende soll die Summe der eingegebenen Zahlen ausgegeben werden."
   ],
   "cell_type": "markdown",
   "metadata": {}
  },
  {
   "source": [
    "def aufsummieren(): # Wir definieren eine Funktion (def), die 'aufsummieren' heißt und keine Parameter '()' erwartet.\n",
    "  x = 1\n",
    "  y = 0 # In dieser Variable speichern wir das Zwischenergebnis in jedem Schleifendurchlauf\n",
    "  while True: # Diese Schleife wird endlos ausgeführt, da True immer 'wahr' ist ...\n",
    "    x = int(input('Geben sie eine Zahl oder die Zahl 0 zum beenden ein:'))\n",
    "    if x == 0:\n",
    "        return y # ... außer der Benutzer gibt eine '0' ein\n",
    "    else:\n",
    "        y += x # Kurzform von y = y +x \n",
    "\n",
    "print(aufsummieren()) # Da wir in der Funktion das Ergebnis zurückgeben und nicht an der Konsole ausgeben ('print()'), müssen wir das hier tun"
   ],
   "cell_type": "code",
   "metadata": {},
   "execution_count": null,
   "outputs": []
  },
  {
   "source": [
    "**Kommentar:** Wir haben uns hier für eine `While`-Schleife entschieden, da wir den Zähler (z. B. `i`) wie bei einer `for`-Schleife nicht benötigen. Zudem kann die Schleife über `While True` endlos ausgeführt und manuell im Schleifenrumpf (engl. \"loop body\") über `break` oder `return` abgebrochen werden kann, sobald eine Bedingung erfüllt ist. Weitere Informationen dazu gibt es z. B. auf [w3schools.com](https://www.w3schools.com/python/python_while_loops.asp)."
   ],
   "cell_type": "markdown",
   "metadata": {}
  },
  {
   "source": [
    "## AUFGABE: Eingaben eines Benutzers aufsummieren, bis er ein `x` oder nichts eingibt\n",
    "Schreiben Sie eine Schleife, die den Benutzer so nach Zahlen fragt, bis er ein `x` (Hinweis: `String`) eingibt. Am Ende soll die Summe der eingegebenen Zahlen ausgegeben werden."
   ],
   "cell_type": "markdown",
   "metadata": {}
  },
  {
   "cell_type": "code",
   "execution_count": null,
   "metadata": {},
   "outputs": [],
   "source": [
    "def aufsummieren_bis_x():\n",
    "  x = 1\n",
    "  y = 0\n",
    "  while True:\n",
    "    x = input('Geben sie eine Zahl oder x zum beenden ein:')\n",
    "    if x == \"x\" or x = \"\":\n",
    "        return y\n",
    "    else:\n",
    "        x = int(x) # Die Umwandlung in einen Integer darf erst hier passieren, da wir vorher auf den String 'x' prüfen möchten\n",
    "        y += x\n",
    "\n",
    "print(aufsummieren_bis_x())"
   ]
  },
  {
   "source": [],
   "cell_type": "markdown",
   "metadata": {}
  },
  {
   "source": [
    "## AUFGABE: Summe der Zahlen von `1` bis `n`\n",
    "Schreiben Sie eine Funktion, die als Parameter eine Ganzzahl `n` erwartet. Die Funktion soll die Summe der Zahlen von `1` bis `n` berechnen und zurückgeben."
   ],
   "cell_type": "markdown",
   "metadata": {}
  },
  {
   "cell_type": "code",
   "execution_count": null,
   "metadata": {},
   "outputs": [],
   "source": [
    "def summe1bisn(n):\n",
    "    x = 0 # Initialisieren der Variable, die die Summe speichern soll\n",
    "    for i in range(1, n + 1): # Hinweis: range(n, m) = (n, n + 1, ..., m - 1)\n",
    "        x += i \n",
    "    return x # Wichtig: Das 'return' muss außerhalb der Schleife stehen, da sonst das Ergebnis immer ' 1' wäre (Einrückung beachten)"
   ]
  },
  {
   "source": [
    "## AUFGABE: Summe der Zahlen von `n` bis `m`\n",
    "Schreiben Sie eine Funktion, die als Parameter zwei Ganzzahlen `m` und `n` erwartet. Die Funktion soll die Summe der Zahlen von `n` bis `m` berechnen und zurückgeben."
   ],
   "cell_type": "markdown",
   "metadata": {}
  },
  {
   "cell_type": "code",
   "execution_count": null,
   "metadata": {},
   "outputs": [],
   "source": [
    "def summe_n_m(n, m):\n",
    "    x = 0\n",
    "    for i in range(n, m + 1):\n",
    "        x += i\n",
    "    return x"
   ]
  },
  {
   "source": [
    "Falls der Benutzer für `n` den gleichen oder einen größeren Wert als für `m` eingibt, ist die Summe 0, da die Schleife nicht durchlaufen wird - die Abbruchbedingung ist bereits zu Beginn erfüllt. Um den Nutzer darauf hinzuweisen, können wir `if` und `else` benutzen:"
   ],
   "cell_type": "markdown",
   "metadata": {}
  },
  {
   "cell_type": "code",
   "execution_count": null,
   "metadata": {},
   "outputs": [],
   "source": [
    "def summe_n_m_mit_hinweis(n, m):\n",
    "    x = 0\n",
    "    if n > m or n == m:\n",
    "        print(\"n muss kleiner als m sein!\") # Hinweis für den Benutzer\n",
    "        return x # Wir geben 'x' zurück (das dann immer '0' ist)\n",
    "    else:\n",
    "        for i in range(n, m + 1):\n",
    "            x += i\n",
    "        return x"
   ]
  },
  {
   "source": [
    "## AUFGABE: Ist die Eingabe eine Zahl?\n",
    "Ein Benutzer gibt einen String beliebiger Länge über die Konsole ein. Unser Programm soll prüfen, ob der String nur aus Ganzzahlen besteht. Falls ja, soll die Funktion `True` zurückgeben, falls nein `False`. Hinweis: Es wird eine Schleife (loop) benötigt sowie mehrere if-Bedingungen."
   ],
   "cell_type": "markdown",
   "metadata": {}
  },
  {
   "cell_type": "code",
   "execution_count": null,
   "metadata": {},
   "outputs": [],
   "source": [
    "def string_pruefen(text):\n",
    "  text = input()\n",
    "  for buchstabe in text:\n",
    "    if buchstabe == \"0\" or buchstabe == \"1\" or buchstabe == \"2\" or buchstabe == \"3\" or buchstabe == \"4\" or buchstabe == \"5\" or buchstabe == \"6\" or buchstabe == \"7\" or buchstabe == \"8\" or buchstabe == \"9\": # nicht besonders elegant, aber funktioniert\n",
    "      print(\"Deutet auf eine Zahl hin\")\n",
    "    else:\n",
    "      print(\"Abbruch, keine Zahl\")\n",
    "      return False\n",
    "  return True # siehe Hinweis unten"
   ]
  },
  {
   "source": [
    "**Hinweis:** Da wir den `text` nicht zu Integern umwandeln, muss mit den String `\"0\"` bis `\"9\"` vergleichen werden und nicht mit `0` bis `9`, da `9 == \"9\"` aufgrund der unterschiedlichen Typen immer `False` ergibt. Außerdem darf nicht vergessen werden, dass mit einer Variable und einem Vergleichsoperator verglichen wird. Beispiel: `if x == \"0\" or \"1\"` ist immer `True`, da `\"1\"` ein wahrer Ausdruck ist und `or` nur von mindestens einem der beiden Ausdrücke fordert, dass dieser `True` ist. Richtig ist `if x == \"0\" or x == \"1\"`. "
   ],
   "cell_type": "markdown",
   "metadata": {}
  },
  {
   "source": [
    "Die Funktion darf im Positivfall, also wenn der String eine Zahl ist, erst außerhalb der Schleife beendet werden. Ansonsten würde die Funktion beim ersten Vorkommen einer Zahl bereits 'True' zurückgeben, wodurch das Programm z. B. auch die Eingabe '12ab' als valide Zahl \"erkennen\" würde.\n",
    "\n",
    "Der Schleifenkopf `for buchstabe in text:` macht in etwa folgendes: Er zerlegt den String `text` in die einzelnen Bestandteile (Buchstaben) und \"speichert\" in jeder Iteration der Schleife den jeweiligen Buchstaben in der Variable `buchstabe`. Siehe auch [w3schools.com](https://www.w3schools.com/python/python_for_loops.asp) (zweites Beispiel)."
   ],
   "cell_type": "markdown",
   "metadata": {}
  },
  {
   "source": [
    "## AUFGABE: Primzahltest\n",
    "Gegeben ist eine Zahl `n`. `n` ist prim, wenn `n > 1` und `n` nur durch `1` und sich selbst (n) teilbar ist. Die zu schreibende Funktion soll `True` zurückgeben, falls die Zahl `n` prim ist, ansonsten `False`."
   ],
   "cell_type": "markdown",
   "metadata": {}
  },
  {
   "cell_type": "code",
   "execution_count": null,
   "metadata": {},
   "outputs": [],
   "source": [
    "def primzahltest(x):\n",
    "  if x <= 1:\n",
    "    return False # Falls die Zahl 1 oder kleiner ist, brauchen wir nicht weiter testen, es kann keine Primzahl sein\n",
    "  else:\n",
    "    for i in range(2, x): # ansonsten probieren wir, die Zahl durch alle Zahlen von 2 bis zu 'n - 1' zu teilen und schauen, ob der Rest 0 ergibt (bedeutet 'ist teilbar')\n",
    "      if x % i == 0:\n",
    "        return False\n",
    "  return True"
   ]
  },
  {
   "source": [
    "Für den Primzahltest verwenden wir den sogenannten `modulo`-Operator, der häufig mit `mod` oder (wie in Python) mit `%` abgekürzt wird. Er gibt den Rest zurück, der bei einer Division von zwei Zahlen übrigbleibt. Beispielsweise ist `12 % 10 = 2` oder `25 % 4 = 1`."
   ],
   "cell_type": "markdown",
   "metadata": {}
  },
  {
   "source": [
    "## AUFGABE: Rekursive Fakultät\n",
    "Die Fakultät einer Zahl `n` wird als `n!` notiert und beschreibt das Produkt aller Zahlen von `n` bis `1`. Beispielsweise ist `4! = 4 * 3 * 2 * 1 = 24`. Wie wir das über eine Schleife programmieren können haben wir bereits gesehen. Allerdings lässt sich `n!` auch als `n * (n - 1)!` aufschreiben. Folglich ist `4!` das gleiche wie `4 * 3!`, da `4 * (3 * 2 * 1) = 4 * 3 * 2 * 1`. Diese Gegebenheit können wir nutzen, um unsere Funktion `factorial` rekursiv mit `n - 1` aufzurufen und erhalten somit eine alternative und sehr kompakte Implementierungsmöglichkeit."
   ],
   "cell_type": "markdown",
   "metadata": {}
  },
  {
   "cell_type": "code",
   "execution_count": null,
   "metadata": {},
   "outputs": [],
   "source": [
    "def factorial(n):\n",
    "  if n == 1:\n",
    "    return 1 # Wenn wir bei 1 angelangt sind, geben wir 1 zurück, da '1! = 1'\n",
    "  else:\n",
    "    return n * factorial(n - 1) # Ansonsten rufen wir unsere Funktion 'factorial()' mit 'n - 1' als Parameter auf und multiplizieren den Rückgabewert mit 'n'"
   ]
  },
  {
   "source": [
    "Zugegegebenermaßen sieht das erst einmal kompliziert aus. Wenn man sich nun aber die einzelnen Funktionsaufrufe und Werte von 'n' aufschreibt wird das Prinzip der Rekursion verständlich:\n",
    "Im Fall von `6!` (\"vier Fakultät\") rufen wir in unserem Programm `factorial(n)` mit dem Wert `n = 6` (also `factorial(6)`) auf.\n",
    "1. Der Wert für n = 6. Da `n != 1` ist, geben wir `6 * factorial(5)` zurück. Zu diesem Zeitpunkt weiß das Programm aber noch nciht, was `factorial(5)` für einen Wert hat und \"wartet\" auf das Ergebnis dieser Funktion.\n",
    "\n",
    "2. Der Wert für `n = 5`. Da `n != 1` ist, geben wir `5 * factorial(4)` zurück.\n",
    "3. Der Wert für `n = 4`. Da `n != 1` ist, geben wir `4 * factorial(3)` zurück.\n",
    "4. Der Wert für `n = 3`. Da `n != 1` ist, geben wir `3 * factorial(2)` zurück.\n",
    "5. Der Wert für `n = 2`. Da `n != 1` ist, geben wir `2 * factorial(1)` zurück.\n",
    "6. Der Wert für `n = 1`. Da `n == 1` nun wahr ist, geben wir den Wert `1` zurück.\n",
    "\n",
    "Nun kann das Programm von unten nach oben die jeweiligen Werte für `factorial(n)` bestimmen:\n",
    "\n",
    "--> 5. `factorial(1) = 1`, also geben wir `2 * 1 = 2` zurück.\n",
    "\n",
    "--> 4. `factorial(2) = 2`, also geben wir `3 * 2 = 6` zurück.\n",
    "\n",
    "--> 3. `factorial(3) = 6`, also geben wir `4 * 6 = 24` zurück.\n",
    "\n",
    "--> 2. `factorial(4) = 24`, also geben wir `5 * 24 = 120` zurück.\n",
    "\n",
    "--> 1. `factorial(5) = 120`, also geben wir `6 * 120 = 720` zurück.\n",
    "\n",
    "Wir sind wieder bei dem ursprünglichen Funktionsaufruf `factorial(6)` angekommen und können den Wert `720` zurückgeben."
   ],
   "cell_type": "markdown",
   "metadata": {}
  },
  {
   "source": [
    "## Listen (Arrays)\n",
    "In vielen Fällen möchte ich nicht nur einen Wert in einer Variable speichern, sondern z. B. auch eine dynamische Menge an Produkte in einem Warenkorb. Aus diesem Grund gibt es sogenannte Arrays (in Python \"Listen\"). Listen fangen *immer* bei `0` an, d.h. das erste Element steht an der Stelle `0` bzw. hat den Index `0`. Folglich besitzt das letzte Element den Index `Länge - 1`. Im folgenden einige Basics (mehr Informationen auf [w3schools.com](https://www.w3schools.com/python/python_lists.asp))."
   ],
   "cell_type": "markdown",
   "metadata": {}
  },
  {
   "cell_type": "code",
   "execution_count": null,
   "metadata": {},
   "outputs": [],
   "source": [
    "leere_liste = [] # sagt Python, dass ich eine leere Liste erstellen möchte\n",
    "liste = [\"A\", \"B\", \"C\", \"D\"] # eine Liste mit vier Elementen vom Typ \"String\"\n",
    "laenge = len(liste) # ermittelt die Anzahl der Elemente (Länge) der Liste"
   ]
  },
  {
   "source": [
    "Für den Zugriff auf bestimmte Elemente oder Elemente in einem Bereich einer Liste gibt es die `[]`-Syntax:"
   ],
   "cell_type": "markdown",
   "metadata": {}
  },
  {
   "cell_type": "code",
   "execution_count": null,
   "metadata": {},
   "outputs": [],
   "source": [
    "erstes_element = liste[0] # speichert das erste Element (also \"A\") in der Variable 'erstes_element' \n",
    "letztes_element = liste[len(liste) - 1]) # greift auf das letzte Element (also \"B\") zu\n",
    "letztes_element_einfach = liste[-1] # greift auf das letzte Element (also \"B\") zu (schneller zu tippen und einfacher zu lesen)\n",
    "\n",
    "die_ersten_zwei_elemente = liste[0:2] # [\"A\", \"B\"] (wie auch bei 'range()' ist das letzte Element 'excluded', d.h. das Element an Index 2 wird NICHT ausgegeben)\n",
    "die_ersten_zwei_elemente_einfach = liste[:2] # [\"A\", \"B\"] (wenn bei '0' gestartet wird, kann man den ersten Index weglassen)\n",
    "ab_index_zwei = liste[2:] # [\"C\", \"D\"] (startet bei Index 2, d.h. dem dritten Element)\n",
    "liste[2] = \"E\" # ersetzt das dritte Element (Index 2) in der Liste durch \"E\", also \"C\" durch \"E\"\n",
    "ist_a_in_liste = if \"A\" in liste # speichert 'True' in Variable, falls \"A\" in der Liste enthalten ist, sonst 'False' (Datentypen beachten!)\n"
   ]
  },
  {
   "source": [
    "Um beispielsweise alle Elemente einer Liste zu durchsuchen, kann ich eine Schleife benutzen. Python bietet dafür eine einfache Syntax an, die der Syntax aus dem Abschnitt \"Ist die Eingabe eine Zahl?\" gleicht: "
   ],
   "cell_type": "markdown",
   "metadata": {}
  },
  {
   "cell_type": "code",
   "execution_count": null,
   "metadata": {},
   "outputs": [],
   "source": [
    "for element in liste:\n",
    "  print(element) # gibt jedes Element der Liste einzeln aus"
   ]
  },
  {
   "source": [
    "## AUFGABE: Zahlen zählen\n",
    "Der Benutzer kann über die Konsole beliebig viele Zahlen in einer Liste speichern. Gibt dieser ein \"x\" ein, wird er in der Konsole nach einer gesuchten Zahl gefragt. Nach der Eingabe dieser gibt das Programm aus, wie oft diese Zahl in der Liste gespeichert wurde."
   ],
   "cell_type": "markdown",
   "metadata": {}
  },
  {
   "cell_type": "code",
   "execution_count": null,
   "metadata": {},
   "outputs": [],
   "source": [
    "def zahlen_zaehlen():\n",
    "  liste = [] # eine leere Liste initialisieren, damit Python weiß, dass wir eine dynamische Liste benötigen\n",
    "\n",
    "  while True:\n",
    "    x = input('Geben Sie eine Zahl oder x zum beenden ein:')\n",
    "    if x == \"x\":\n",
    "      return liste # beendet die Funktion und gibt die (gefüllte) Liste zurück\n",
    "    else:\n",
    "        x = int(x) # Wir wollen evtl. später mit den Zahlen rechnen, also macht die Speicherung als Integer Sinn\n",
    "        liste.append(x) # '.append(element)' ermöglicht das Hinzufügen von Elementen an das Ende der Liste\n",
    " \n",
    "zahlen_liste = zahlen_zaehlen() # Wir speichern die Liste zwischen\n",
    "\n",
    "gesuchte_zahl = int(input(\"Welche Zahl soll gezählt werden?\"))\n",
    "\n",
    "counter = 0 # Wir möchten eine Summe berechnen, beginnen folglich bei 0\n",
    "for zahl in zahlen_liste: # wird für jedes Element (= Zahl) in der zahlen_liste durchlaufen\n",
    "  if zahl == gesuchte_zahl: \n",
    "    counter += 1 # erhöhe den Counter um 1\n",
    "\n",
    "print(counter) \n"
   ]
  },
  {
   "source": [
    "**Beispiel:** Gibt der Benutzer die Zahlen `1`, `2`, `2` und `4` gefolgt von einem `x` ein, sieht die `zahlen_liste` wie folgt aus: `[1, 2, 2, 4]`. Soll nun die Zahl `2` gezählt werden, gibt die Funktion `count(element)` eine `2` zurück.\n",
    "\n",
    "Mithilfe der Python-Bordmittel und -Funktionen kann man das Zählen auch kompakter lösen: Die Funktion '.count(element)' lässt sich ebenfalls auf der Liste aufrufen und gibt die Anzahl der Elemente aus der Liste, die dem Kriterium entsprechen, zurück."
   ],
   "cell_type": "markdown",
   "metadata": {}
  },
  {
   "cell_type": "code",
   "execution_count": null,
   "metadata": {},
   "outputs": [],
   "source": [
    "print(zahlen_liste.count(gesuchte_zahl))"
   ]
  },
  {
   "source": [
    "**Tipp:** Lassen Sie sich von Ihrer Entwicklungsumgebung (IDE = Integrated Development Environment) die möglichen Funktionen auf einer Liste anzeigen, indem Sie deN Variablennamen oder die leere Liste (`[]`) gefolgt von einem Punkt schreiben. Teilweise muss danach auch die Tastenkombination `STRG + Leertaste` gedrückt werden. Es wird eine Auswahl der möglichen Funktionen inklusive Beschreibung und Signatur (erwartete Parameter und Rückgabewerte) angezeigt."
   ],
   "cell_type": "markdown",
   "metadata": {}
  },
  {
   "source": [
    "## AUFGABE: Buchstaben zählen\n",
    "Die Aufgabe \"Zahlen zählen\" soll so angepasst werden, dass statt Zahlen nun die Buchstaben gezählt werden. In der hier präsentierten zweiten Ausbaustufe sollen auch die Elemente der Liste an sich (z. B. `[\"Test\", \"python\", \"nicht]`) berücksichtigt werden, sodass die Abfrage nach dem Buchstaben `t` das Ergebnis `4` liefert. Als Abbruchbedingung macht außerdem eine Zahl wie z. B. \"0\" mehr Sinn, da \"x\" ein valider Buchstabe ist.\n",
    "\n",
    "**Hinweis:** Die Strings können über die Funktion `.lower()` in Kleinbuchstaben oder über `.upper()` in Großbuchstaben konvertiert werden, da `A != a` (siehe z. B. [ASCII-Kodierung](https://de.wikipedia.org/wiki/American_Standard_Code_for_Information_Interchange))."
   ],
   "cell_type": "markdown",
   "metadata": {}
  },
  {
   "cell_type": "code",
   "execution_count": null,
   "metadata": {},
   "outputs": [],
   "source": [
    "# Listenbefüllungsteil\n",
    "def buchstaben_zaehlen():\n",
    "  liste = []\n",
    "\n",
    "  while True:\n",
    "    eingabe = input('Geben Sie einen Buchstaben oder x zum beenden ein:')\n",
    "    if eingabe == \"0\": # statt \"x\", da \"x\" ein Buchstabe ist\n",
    "      return liste # abbrechen und 'liste'  zurückgeben\n",
    "    else:\n",
    "        liste.append(eingabe) # eingegebenen Text zu 'liste' hinzufügen\n",
    "\n",
    "# Suchteil\n",
    "buchstaben_liste = buchstaben_zaehlen() # Buchstabenliste nach Befüllung durch den Benutzer zwischenspeichern\n",
    "zu_zaehlen = input(\"Welchen Buchstaben soll ich zählen? \")\n",
    "zu_zaehlen = zu_zaehlen.lower() # siehe Hinweis in der Aufgabenbeschreibung oben\n",
    "\n",
    "# Zählteil\n",
    "counter = 0\n",
    "for element in buchstaben_liste: # buchstaben_liste ist z. B. [\"ab\", \"cd\", \"af\", \"de\"]\n",
    "  for buchstabe in element: # element ist erst [\"ab\"], dann [\"cd\"] usw.\n",
    "    buchstabe = buchstabe.lower() # siehe Hinweis in der Aufgabenbeschreibung oben\n",
    "    if buchstabe == zu_zaehlen: # falls der aktuell untersuchte Buchstabe gleich dem zu zählenden Buchstabe ist ...\n",
    "      counter += 1 # ... erhöhe die Zählersumme um eins\n",
    "\n",
    "print(\"Der Buchstabe {} wurde {} mal gefunden.\".format(zu_zaehlen, counter))"
   ]
  },
  {
   "source": [
    "Damit wir unseren Code lesbarer gestalten, haben wir statt mehrerer `print()`-Anweisungen oder einer Anweisung wie `print(\"Der Buchstabe\", zu_zaehlen, \"wurde\", counter, \"mal gefunden\")` einen `format`-String verwendet. Mit `{}` markieren wir Platzhalter, die über einen Aufruf der Funktion `format()` auf diesem String mit den entsprechenden Variablen (in diesem Fall `zu_zaehlen` und `counter`) als Parameter den \"ausgefüllten\" String zurückgibt, z. B. \"Der Buchstabe a wurde 3 mal gefunden\" im Fall der Eingabe von `[\"Abba\", \"Affe\", \"Fuchs\"]`."
   ],
   "cell_type": "markdown",
   "metadata": {}
  },
  {
   "source": [
    "## List Comprehensions\n",
    "Ihr Auftraggeber möchte, dass Sie für eine Liste an Netto-Preisen seiner Produkte die Mehrwertsteuer (momentan 16 %) berechnen. Der einfachste Weg dazu wäre eine Schleife, die alle Elemente der Liste durchläuft und jeweils mit `1.19` multipliziert.\n",
    "Python bietet u.a. für solche Fälle allerdings eine bequeme Schreibweise, die automatisch eine festgelegte Operation auf allen Elementen einer Liste ausführt, wenn diese eine Bedingung erfüllen. Für unser Beispiel sieht das so aus:\n"
   ],
   "cell_type": "markdown",
   "metadata": {}
  },
  {
   "cell_type": "code",
   "execution_count": null,
   "metadata": {},
   "outputs": [],
   "source": [
    "nettopreise = [2.00, 2.12, 11.22, 239.24, 93.84]\n",
    "nettopreise_verdoppelt = [x * 1.16 for x in nettopreise] # die Liste 'nettopreise_verdoppelt' soll alle Elemente aus der Liste 'nettopreise' mal den Mehrwertsteuersatz enthalten\n",
    "print(nettopreise_verdoppelt) # [2.32, 2.4592, 13.0152, 277.5184, 108.8544]"
   ]
  }
 ]
}