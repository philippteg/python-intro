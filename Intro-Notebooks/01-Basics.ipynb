{
 "cells": [
  {
   "cell_type": "markdown",
   "metadata": {},
   "source": [
    "# Programmier-Grundlagen"
   ]
  },
  {
   "cell_type": "markdown",
   "metadata": {},
   "source": [
    "**Hinweis:** Sie können die Code-Zellen in diesem Notebook ausführen, indem Sie sie mit der Maus markieren und dann `SHIFT+ENTER` drücken.\n",
    "Sie können die Zellen dabei auch nach Belieben verändern und so damit experimentieren."
   ]
  },
  {
   "cell_type": "markdown",
   "metadata": {},
   "source": [
    "## Variablen und Ein-/Ausgabe"
   ]
  },
  {
   "cell_type": "markdown",
   "metadata": {},
   "source": [
    "Eine zentrale Rolle spielen *Variablen*, und die Art und Weise, wie man damit rechnen kann.\n",
    "Eine Variable können wir uns als einen Speicherplatz vorstellen, in dem Werte abgelegt werden können.\n",
    "Die folgende Anweisung speichert die Zahl $42$ in der Variablen `x`:"
   ]
  },
  {
   "cell_type": "code",
   "execution_count": null,
   "metadata": {
    "collapsed": false,
    "jupyter": {
     "outputs_hidden": false
    }
   },
   "outputs": [],
   "source": [
    "x = 42"
   ]
  },
  {
   "cell_type": "markdown",
   "metadata": {},
   "source": [
    "Mit dem Wert von `x` kann man rechnen wie mit einer Zahl, die Grundrechenarten sind dabei schon in der Programmiersprache eingebaut.\n",
    "Wir berechnen im folgenden einige arithmetische Ausdrücke mit `x`. Führen Sie die folgenden Code-Zellen aus (mit `SHIFT+ENTER`), um das Ergebnis zu sehen."
   ]
  },
  {
   "cell_type": "code",
   "execution_count": null,
   "metadata": {
    "collapsed": false,
    "jupyter": {
     "outputs_hidden": false
    }
   },
   "outputs": [],
   "source": [
    "x + 3"
   ]
  },
  {
   "cell_type": "code",
   "execution_count": null,
   "metadata": {
    "collapsed": false,
    "jupyter": {
     "outputs_hidden": false
    }
   },
   "outputs": [],
   "source": [
    "x - 15"
   ]
  },
  {
   "cell_type": "code",
   "execution_count": null,
   "metadata": {
    "collapsed": false,
    "jupyter": {
     "outputs_hidden": false
    }
   },
   "outputs": [],
   "source": [
    "(x + 2) * 2"
   ]
  },
  {
   "cell_type": "code",
   "execution_count": null,
   "metadata": {
    "collapsed": false,
    "jupyter": {
     "outputs_hidden": false
    }
   },
   "outputs": [],
   "source": [
    "2 * x + 23"
   ]
  },
  {
   "cell_type": "code",
   "execution_count": null,
   "metadata": {
    "collapsed": false,
    "jupyter": {
     "outputs_hidden": false
    }
   },
   "outputs": [],
   "source": [
    "x / 2"
   ]
  },
  {
   "cell_type": "markdown",
   "metadata": {},
   "source": [
    "Eine Variable ist damit etwas ähnliches wie eine Unbekannte in der Mathematik.\n",
    "Es gibt aber einen wesentlichen Unterschied: In der Mathematik geht es i.d.R. darum, Eigenschaften von Unbekannten zu bestimmen. Bspw. werden Gleichungen gelöst, um Werte von Variablen zu bestimmen. Beim Programmieren sind Variablen dagegen ein Hilfsmittel, um eine allgemeine Berechnung unabhängig von konkreten Werten zu formulieren.\n",
    "\n",
    "Eine wesentliche Eigenschaft von Variablen ist, dass man ihnen jederzeit einen neuen Wert zuweisen kann. Einmal haben wir das oben schon gemacht, es geht aber auch innerhalb einer Berechnung. Welchen Wert hat die Variable `x` am Ende der folgenden Schritte? Verändern Sie die Schritte und versuchen Sie vorherzusagen, was das Ergebnis sein wird:"
   ]
  },
  {
   "cell_type": "code",
   "execution_count": null,
   "metadata": {
    "collapsed": false,
    "jupyter": {
     "outputs_hidden": false
    }
   },
   "outputs": [],
   "source": [
    "x = 1\n",
    "x = 2 * x\n",
    "x = x + 1\n",
    "x = x - 12"
   ]
  },
  {
   "cell_type": "markdown",
   "metadata": {},
   "source": [
    "Diese vier Schritte haben der Variable zuerst einen Startwert zugewiesen und dann wurde dieser Wert immer wieder geändert.\n",
    "Eine Zeile wie `x = x + 1` bedeutet dabei: \"Der neue Wert von `x` soll der alte Wert + 1 sein\".\n",
    "Solch eine Anweisung nennt man eine *Zuweisung*.\n",
    "\n",
    "Man beachte dabei, dass die Wertänderung von `x` durch das `x = ...` geschieht. Die arithmetischen Ausdrücke weiter oben haben den Wert von `x` nicht verändert, sie haben nur mit dem Wert gerechnet. Steht das `x` jedoch auf der linken Seite eines Gleichheitszeichens, so ändert sich dadurch sein Wert.\n",
    "Dadurch hat eine Anweisung wie `x = x+1` beim Programmieren durchaus einen Sinn, während es in der Mathematik keine Zuweisung, sondern lediglich eine (unwahre) Gleichung ist."
   ]
  },
  {
   "cell_type": "markdown",
   "metadata": {},
   "source": [
    "Oben haben wir zwar den Wert von `x` verändert, aber wir haben ihn uns noch nicht anzeigen lassen:"
   ]
  },
  {
   "cell_type": "code",
   "execution_count": null,
   "metadata": {
    "collapsed": false,
    "jupyter": {
     "outputs_hidden": false
    }
   },
   "outputs": [],
   "source": [
    "x"
   ]
  },
  {
   "cell_type": "markdown",
   "metadata": {},
   "source": [
    "**Anmerkung:** Wenn eine Variable bzw. ein Ausdruck als letztes in einer Code-Zelle steht, wird sein Wert ausgegeben.\n",
    "Dies ist eine Spezialität von Jupyter-Notebooks und Python-Konsolen, die in \"regulären\" Python-Programmen so nicht funktioniert.\n",
    "Dort - und wenn man mehrere Werte hintereinander aus geben will - kann man die Python-Funktion `print()` verwenden.\n",
    "Hier sind ein paar Beispiele, wie man `print()` verwenden kann:"
   ]
  },
  {
   "cell_type": "code",
   "execution_count": null,
   "metadata": {
    "collapsed": false,
    "jupyter": {
     "outputs_hidden": false
    }
   },
   "outputs": [],
   "source": [
    "print(x)\n",
    "print(3+4)\n",
    "y = x + 3 + 2 * x\n",
    "print(y)\n",
    "print(\"Hallo\")\n",
    "print(\"Meine Lieblingszahl ist\", x+51, \".\")"
   ]
  },
  {
   "cell_type": "markdown",
   "metadata": {},
   "source": [
    "Neben `print()` gibt es auch die Funktion `input()`, mittels derer Eingaben von der Konsole gelesen werden können:"
   ]
  },
  {
   "cell_type": "code",
   "execution_count": null,
   "metadata": {},
   "outputs": [],
   "source": [
    "x = input()"
   ]
  },
  {
   "cell_type": "markdown",
   "metadata": {},
   "source": [
    "Eine solche Eingabe wird zunächst als Zeichenkette (`string`) gelesen.\n",
    "Wir wenden die Funktion `type()` auf `x` an, um dies zu sehen:"
   ]
  },
  {
   "cell_type": "code",
   "execution_count": null,
   "metadata": {},
   "outputs": [],
   "source": [
    "type(x)"
   ]
  },
  {
   "cell_type": "markdown",
   "metadata": {},
   "source": [
    "Um eine Zahl zu lesen, kann man die Eingabe explizit zu einer solchen Konvertieren:"
   ]
  },
  {
   "cell_type": "code",
   "execution_count": null,
   "metadata": {},
   "outputs": [],
   "source": [
    "y = int(input())\n",
    "print(type(y))\n",
    "print(y+3)"
   ]
  },
  {
   "cell_type": "markdown",
   "metadata": {},
   "source": [
    "### Beispiel: Systematisches Rechnen mit Variablen"
   ]
  },
  {
   "cell_type": "markdown",
   "metadata": {},
   "source": [
    "Wir benutzen nun eine Variable, um das Produkt der Zahlen von 1 bis 5 (also die Fakultät von 5) zu berechnen.\n",
    "Die naheliegende Möglichkeit ist natürlich, die Berechnung einfach direkt hinzuschreiben:"
   ]
  },
  {
   "cell_type": "code",
   "execution_count": null,
   "metadata": {
    "collapsed": false,
    "jupyter": {
     "outputs_hidden": false
    }
   },
   "outputs": [],
   "source": [
    "ergebnis = 1 * 2 * 3 * 4 * 5\n",
    "ergebnis"
   ]
  },
  {
   "cell_type": "markdown",
   "metadata": {},
   "source": [
    "**Anmerkung:** Wie man sieht, müssen Variablen nicht immer \"mathematische\" Namen wie `x` oder `y` haben, sie dürfen auch längere Namen haben.\n",
    "Es ist generell eine gute Idee, \"sprechende\" Namen für Variablen zu verwenden, so bleibt der Code besser lesbar."
   ]
  },
  {
   "cell_type": "markdown",
   "metadata": {},
   "source": [
    "Wir fangen zwar mit der Berechnung für `5` an, aber unser eigentliches Ziel ist die Berechnung der Fakultät für eine beliebgige Zahl zu formulieren.\n",
    "Als ersten Schritt dahin formulieren wir die Berechnung etwas komplizierter, nämlich in Form einer Reihe von Zuweisungen:"
   ]
  },
  {
   "cell_type": "code",
   "execution_count": null,
   "metadata": {
    "collapsed": false,
    "jupyter": {
     "outputs_hidden": false
    }
   },
   "outputs": [],
   "source": [
    "ergebnis = 1\n",
    "ergebnis = 2 * ergebnis\n",
    "ergebnis = 3 * ergebnis\n",
    "ergebnis = 4 * ergebnis\n",
    "ergebnis = 5 * ergebnis\n",
    "ergebnis"
   ]
  },
  {
   "cell_type": "markdown",
   "metadata": {},
   "source": [
    "Diese Berechnung hat fünf Zeilen, weil wir $5!$ berechnet haben. Die Berechnung folgt aber einem allgemeinen Schema, für $7!$ brauchen wir nur zwei Zeilen mehr:"
   ]
  },
  {
   "cell_type": "code",
   "execution_count": null,
   "metadata": {
    "collapsed": false,
    "jupyter": {
     "outputs_hidden": false
    }
   },
   "outputs": [],
   "source": [
    "ergebnis = 1\n",
    "ergebnis = 2 * ergebnis\n",
    "ergebnis = 3 * ergebnis\n",
    "ergebnis = 4 * ergebnis\n",
    "ergebnis = 5 * ergebnis\n",
    "ergebnis = 6 * ergebnis\n",
    "ergebnis = 7 * ergebnis\n",
    "ergebnis"
   ]
  },
  {
   "cell_type": "markdown",
   "metadata": {},
   "source": [
    "## Schleifen"
   ]
  },
  {
   "cell_type": "markdown",
   "metadata": {},
   "source": [
    "Die einzelnen Zeilen sind fast identisch, sie unterscheiden sich nur in der Zahl, die jeweils auf das Zwischenergebnis multipliziert wird.\n",
    "In natürlicher Sprache könnte man die Berechnungsanweisung für $n!$ folgendermaßen formulieren:\n",
    "\n",
    "\"Initialisiere eine Variable `ergebnis` mit dem Wert `1` und multipliziere sie nacheinander mit allen Zahlen von `2` bis `n`. Nach jeder Multiplikation soll das Zwischenergebnis wieder in `ergebnis` gespeichert werden.\"\n",
    "\n",
    "Etwas \"mathematischer\" entspricht diese Anweisung der Produktschreibweise der Fakultätsfunktion:\n",
    "$$ n! = \\prod_{i=1}^n i$$\n",
    "\n",
    "Diese Anweisung kann direkt im Code mittels einer *Schleife* umgesetzt werden:"
   ]
  },
  {
   "cell_type": "code",
   "execution_count": null,
   "metadata": {
    "collapsed": false,
    "jupyter": {
     "outputs_hidden": false
    }
   },
   "outputs": [],
   "source": [
    "n = 5\n",
    "ergebnis = 1\n",
    "for i in range(2,n+1):\n",
    "    ergebnis = i * ergebnis\n",
    "ergebnis"
   ]
  },
  {
   "cell_type": "markdown",
   "metadata": {},
   "source": [
    "Die Zeile `for i in range(2,n+1):` bedeutet dabei, dass die darunterstehende eingerückte Anweisung mehrfach ausgeführt werden soll.\n",
    "Dabei sollen für `i` nacheinander alle Zahlen von `2` bis einschließlich `n` eingesetzt werden."
   ]
  },
  {
   "cell_type": "markdown",
   "metadata": {},
   "source": [
    "**Anmerkung:** Der Ausruck `range(a,b)` bezeichnet einen Bereich von Werten: `a` ist der erste Wert und `b` ist der erste Wert, der nicht mehr zum Bereich gehört. Diese Wahl für `b` ist auf den ersten Blick überraschend, aber sie ergibt mehr Sinn, wenn man berücksichtigt, dass man in der Informatik oft den Bereich von $0$ bis einschl. $n-1$ für ein gegebenes $n$ benötigt. Diesen Bereich bekommt man mit der Anweisung `range(0,n)` oder einfach `range(n)`. "
   ]
  },
  {
   "cell_type": "markdown",
   "metadata": {},
   "source": [
    "Schleifen sind -- neben den Variablen -- der zweite zentrale Aspekt beim Programmieren.\n",
    "Variablen erlauben es uns, Anweisungen unabhängig von konkreten Werten zu formulieren und Schleifen drücken aus, dass eine Anweisung auf eine systematische Weise wiederholt werden sollen."
   ]
  },
  {
   "cell_type": "markdown",
   "metadata": {},
   "source": [
    "Es gibt verschiedene Varianten von Schleifen, bspw. hätten wir die Fakultät auch folgendermaßen formulieren können:"
   ]
  },
  {
   "cell_type": "code",
   "execution_count": null,
   "metadata": {
    "collapsed": false,
    "jupyter": {
     "outputs_hidden": false
    }
   },
   "outputs": [],
   "source": [
    "n = 5\n",
    "ergebnis = 1\n",
    "for i in range(n,1,-1):\n",
    "    ergebnis = i * ergebnis\n",
    "ergebnis"
   ]
  },
  {
   "cell_type": "markdown",
   "metadata": {},
   "source": [
    "Hier geben wir drei Argumente an den `range()`-Ausdruck: Dieses Mal starten wir bei `n`, der erste Wert, der nicht mehr zum Bereich gehört ist `1` und die Schrittweite ist `-1`. Diese Schleife zählt also rückwärts, führt aber ansonsten die gleiche Berechnung durch."
   ]
  },
  {
   "cell_type": "markdown",
   "metadata": {},
   "source": [
    "Eine weitere Form der Schleife ist die `while`-Schleife: Hier gibt man keinen Bereich an, sondern formuliert eine Bedingung. Die Schleife läuft, solange diese Bedingung erfüllt ist:"
   ]
  },
  {
   "cell_type": "code",
   "execution_count": null,
   "metadata": {
    "collapsed": false,
    "jupyter": {
     "outputs_hidden": false
    }
   },
   "outputs": [],
   "source": [
    "n = 5\n",
    "ergebnis = 1\n",
    "i = 2\n",
    "while i < n+1:\n",
    "    ergebnis = i * ergebnis\n",
    "    i = i+1\n",
    "ergebnis"
   ]
  },
  {
   "cell_type": "markdown",
   "metadata": {},
   "source": [
    "Auch diese Schleife führt die gleiche Berechnung durch wie die beiden anderen. Wir mussten allerdings den Wert `i` \"von Hand\" pflegen.\n",
    "While-Schleifen sind in der Handhabung etwas komplizierter und kommen daher seltener vor als For-Schleifen. Manche Algorithmen kann man mit\n",
    "For-Schleifen aber gar nicht oder nur auf umständliche Weise formulieren. While-Schleifen sind das allgemeinere, mächtigere Konstrukt."
   ]
  },
  {
   "cell_type": "markdown",
   "metadata": {},
   "source": [
    "## Funktionen"
   ]
  },
  {
   "cell_type": "markdown",
   "metadata": {},
   "source": [
    "Die Berechnung der Fakultätsfunktion haben wir nun in allgemeiner Weise formuliert.\n",
    "Allerdings ist die Benutzung dieses Algorithmus noch etwas umständlich:\n",
    "Um die Fakultät einer Zahl zu berechnen, müssen wir zunächst eine Variable `n` mit dem Wert belegen und dann immer wieder unsere Schleife hinschreiben.\n",
    "Hier kommt das nächste wichtige Programmier-Konzept ins Spiel, wir definieren eine *Funktion*, die die Anweisungen enthält:"
   ]
  },
  {
   "cell_type": "code",
   "execution_count": null,
   "metadata": {
    "collapsed": false,
    "jupyter": {
     "outputs_hidden": false
    }
   },
   "outputs": [],
   "source": [
    "def factorial(n):\n",
    "    ergebnis = 1\n",
    "    for i in range(2,n+1):\n",
    "        ergebnis = i * ergebnis\n",
    "    return ergebnis"
   ]
  },
  {
   "cell_type": "markdown",
   "metadata": {},
   "source": [
    "Die Funktion `factorial()` enthält die gleiche Schleife wie vorher, allerdings sieht das \"Drumherum\" etwas anders aus:\n",
    "- Statt zu Anfang einen Wert für `n` festzulegen, steht dieses `n` jetzt in den Klammern hinter dem Funktionsnamen.\n",
    "  Man sagt: \"Die Funktion `factorial()` erwartet einen *Parameter* `n`.\n",
    "  Dieser Parameter ist eine Variable, deren Wert beim Start der Funktion festgelegt werden muss.\n",
    "- Statt das Ergebnis einfach auszugeben, steht am Ende der Funktion der Ausdruck `return ergebnis`.\n",
    "  Dies bewirkt, dass die Funktion an dieser Stelle endet und dass ihr Rechenergebnis der Wert der Variablen `ergebnis` sein soll.\n",
    "\n",
    "Die Funktion kann nun beliebig oft aufgerufen werden:"
   ]
  },
  {
   "cell_type": "code",
   "execution_count": null,
   "metadata": {
    "collapsed": false,
    "jupyter": {
     "outputs_hidden": false
    }
   },
   "outputs": [],
   "source": [
    "factorial(5)"
   ]
  },
  {
   "cell_type": "code",
   "execution_count": null,
   "metadata": {
    "collapsed": false,
    "jupyter": {
     "outputs_hidden": false
    }
   },
   "outputs": [],
   "source": [
    "factorial(7)"
   ]
  },
  {
   "cell_type": "markdown",
   "metadata": {},
   "source": [
    "Beim Aufruf gibt man den Wert für `n` in Klammern mit an. In den obigen Beispielen nennt man `5` und `7` jeweils ein *Argument* für den Funktionsaufruf."
   ]
  },
  {
   "cell_type": "markdown",
   "metadata": {},
   "source": [
    "Ein Funktionsaufruf ist selbst ein Wert, mit dem weitergerechnet werden kann. D.h. ein Ausdruck wie `factorial(3)` kann in anderen Ausdrücken stehen und bspw. auch wieder als Argument für einen weiteren Aufruf verwenden:"
   ]
  },
  {
   "cell_type": "code",
   "execution_count": null,
   "metadata": {
    "collapsed": false,
    "jupyter": {
     "outputs_hidden": false
    }
   },
   "outputs": [],
   "source": [
    "factorial(3) + 2"
   ]
  },
  {
   "cell_type": "code",
   "execution_count": null,
   "metadata": {
    "collapsed": false,
    "jupyter": {
     "outputs_hidden": false
    }
   },
   "outputs": [],
   "source": [
    "factorial(3) * factorial(4)"
   ]
  },
  {
   "cell_type": "code",
   "execution_count": null,
   "metadata": {
    "collapsed": false,
    "jupyter": {
     "outputs_hidden": false
    }
   },
   "outputs": [],
   "source": [
    "factorial(factorial(3))"
   ]
  },
  {
   "cell_type": "markdown",
   "metadata": {},
   "source": [
    "### If-Then-Else"
   ]
  },
  {
   "cell_type": "markdown",
   "metadata": {},
   "source": [
    "Die bisherige Darstellung der Fakultätsfunktion entspricht einer eher \"Ablauf-orientierten\" Sichtweise. Wir benutzen Schleifen, um Rechenanweisungen wie \"Multipliziere alle Zahlen von `1` bis `n`\" zu formalisieren. Man nennt diesen Programmierstil *imperatives Programmieren*, eine Schleife nennt man auch eine *Kontrollstruktur*, weil sie direkt den Ablauf eines Programms steuert.\n",
    "\n",
    "Eine weitere Kontrollstruktur ist die *bedingte Sprunganweisung* (oder der *`if`-`then`-`else`-Block*).\n",
    "Wie der Name vermuten lässt, kann man damit die Ausführung von Code an bestimmte Bedingungen knüpfen.\n",
    "Wir wollen damit zunächst die Fakultätsfunktion noch auf eine andere Art und Weise darstellen."
   ]
  },
  {
   "cell_type": "markdown",
   "metadata": {},
   "source": [
    "Wenn man beispielhaft die Fakultät von 5 als Produkt der Zahlen von 1 bis 5 aufschreibt, wird deutlich, dass die Fakultät eine *rekursive* Funktion ist.\n",
    "Das bedeutet, dass die Fakultät einer Zahl mit Hilfe einer kleineren Fakultät ausgedrückt werden kann:\n",
    "\n",
    "$$5! = \\overbrace{1 \\cdot 2 \\cdot 3 \\cdot 4}^{4!} \\cdot 5 = 4! \\cdot 5$$\n",
    "\n",
    "Für allgemeine $n \\in \\mathbb{N}$ gilt die folgende Definition:\n",
    "\n",
    "$$ n! = \\begin{cases} 1 &\\text{falls $n = 0$} \\\\ (n-1)! \\cdot n &\\text{falls $n>0$}\\end{cases} $$\n",
    "\n",
    "Der Fall $n=0$ ist ein Sonderfall, sozusagen der Startwert der Definition. Für $n>0$ gilt der \"Normalfall\", in dem die Berechnung für $n$ auf das Ergebnis für $n-1$ zurückgeführt wird. Diese Definition der Fakultätsfunktion bilden wir mittels einer `if`-`then`-`else`-Anweisung ab:"
   ]
  },
  {
   "cell_type": "code",
   "execution_count": null,
   "metadata": {
    "collapsed": false,
    "jupyter": {
     "outputs_hidden": false
    }
   },
   "outputs": [],
   "source": [
    "def factorial(n):\n",
    "    if n == 0:\n",
    "        return 1\n",
    "    else:\n",
    "        return n * factorial(n-1)"
   ]
  },
  {
   "cell_type": "markdown",
   "metadata": {},
   "source": [
    "Eine `if`-`then`-`else`-Anweisung besteht aus drei Teilen: Hinter dem `if` kommt zunächst eine Bedingung, die zu einem *Wahrheitswert* ausgewertet werden kann. Im Beispiel ist dies der *Vergleich* `n == 0`. Man beachte, dass hier zwei Gleichheitszeichen zwischen `n` und `0` stehen. Dies ist keine Zuweisung, sondern ein Vergleich, der als Ergebnis entweder der Wert `True` oder den Wert `False` hat. Man nennt dies einen *booleschen Ausdruck*. Wenn das Ergebnis `True` ist, wird der Teil vor dem `else` ausgeführt, ansonsten der Teil dahinter."
   ]
  },
  {
   "cell_type": "markdown",
   "metadata": {},
   "source": [
    "Wir führen die Berechnung für einige Werte aus, um uns zu überzeugen, dass sie stimmt:"
   ]
  },
  {
   "cell_type": "code",
   "execution_count": null,
   "metadata": {
    "collapsed": false,
    "jupyter": {
     "outputs_hidden": false
    }
   },
   "outputs": [],
   "source": [
    "factorial(5)"
   ]
  },
  {
   "cell_type": "code",
   "execution_count": null,
   "metadata": {
    "collapsed": false,
    "jupyter": {
     "outputs_hidden": false
    }
   },
   "outputs": [],
   "source": [
    "factorial(7)"
   ]
  },
  {
   "cell_type": "code",
   "execution_count": null,
   "metadata": {
    "collapsed": false,
    "jupyter": {
     "outputs_hidden": false
    }
   },
   "outputs": [],
   "source": [
    "factorial(0)"
   ]
  },
  {
   "cell_type": "markdown",
   "metadata": {},
   "source": [
    "In der Definition der Funktion machen wir also eine *Fallunterscheidung*: Wenn `n==0` gilt, ist das Ergebnis `1` (die Anweisung `return 1` wird ausgeführt). Ansonsten wird die Anweisung `return factorial(n-1)` ausgeführt. Diese Funktion kann man in Python auch noch kürzer schreiben:"
   ]
  },
  {
   "cell_type": "code",
   "execution_count": null,
   "metadata": {
    "collapsed": false,
    "jupyter": {
     "outputs_hidden": false
    }
   },
   "outputs": [],
   "source": [
    "def factorial(n):\n",
    "    return 1 if n == 0 else n * factorial(n-1)"
   ]
  },
  {
   "cell_type": "markdown",
   "metadata": {},
   "source": [
    "**Anmerkung:** Diese Definitionen der Fakultät sind *rekursiv*, d.h. sie beziehen sich auf ein Rechenergebnis für einen anderen (kleineren) Wert für `n`.\n",
    "Das Konzept der Rekursion ist beim Programmieren von großer Bedeutung, wir werden es noch in größerer Tiefe behandeln.  \n",
    "Für den Moment sollte man sich v.A. klar machen, dass ein Ausdruck wie z.B. `factorial(4)` oder `factorial(n-1)` einen festen Wert hat, mit dem bedenkenlos weitergerechnet werden kann. Wir haben das in den vorherigen Beispielen schon gesehen: Ein Ausdruck wie `4 * factorial(3)` hat einen Wert, weil die Funktion `factorial()` für `n==3` definiert ist. Dies gilt auch, wenn dieser Ausdruck innerhalb der Funktion vorkommt."
   ]
  },
  {
   "cell_type": "markdown",
   "metadata": {},
   "source": [
    "Zur Entspannung betrachten wir eine Anwendung für das `if`-`then`-`else`, in der keine Rekursion vorkommt.\n",
    "Nehmen wir an, wir wollen für ein gegebenes $n$ herausfinden, ob es eine ganze Zahl $x$ gibt, so dass $n =x!$ gilt.  \n",
    "**Beispiel:** Es gilt $5! = 120$, also gibt es für $n = 120$ ein solches $x$ (nämlich $x=5$).\n",
    "Für $n=100$ gibt es hingegen kein solches $x$, denn es gilt $4! = 24$ und $5! = 120$. Die Zahl $100$ liegt zwischen $24$ und $120$, aber zwischen $4$ und $5$ gibt es keine ganze Zahl mehr.\n",
    "\n",
    "Es ist klar, dass immer $n = x! > x$ gilt. Daher genügt es, nacheinander für alle Zahlen $x \\leq n$ zu prüfen, ob $x! = n$ gilt. Wenn man dabei kein solches $x$ findet, dann gibt es auch keines. Daraus ergibt sich folgender Algorithmus:"
   ]
  },
  {
   "cell_type": "markdown",
   "metadata": {},
   "source": [
    "\"Für jede Zahl `x` im Bereich von `0` bis `n`: Prüfe, ob `factorial(x) == n` gilt. Falls ja, breche mit dem Ergebnis `True` ab.\n",
    "Falls die Bedingung für kein `x` erfüllt ist, ist das Ergebnis `False`."
   ]
  },
  {
   "cell_type": "markdown",
   "metadata": {},
   "source": [
    "Als Python-Code sieht diese Funktion folgendermaßen aus:"
   ]
  },
  {
   "cell_type": "code",
   "execution_count": null,
   "metadata": {
    "collapsed": false,
    "jupyter": {
     "outputs_hidden": false
    }
   },
   "outputs": [],
   "source": [
    "def is_factorial(n):\n",
    "    for x in range(n+1):\n",
    "        # Vorzeitiger Abbruch, falls passendes x gefunden\n",
    "        if n == factorial(x):\n",
    "            return True\n",
    "    # Wenn die Schleife bis zum Ende läuft, wurde kein passendes x gefunden.\n",
    "    return False"
   ]
  },
  {
   "cell_type": "markdown",
   "metadata": {},
   "source": [
    "Die Funktion erwartet eine Zahl `n` und liefert entweder `True` oder `False`.\n",
    "Also keine Zahl, sondern einen Wert vom Typ `bool`.\n",
    "Die Schleife lässt eine Laufvariable `x` von `0` bis `n` zählen und prüft für jedes `x`,\n",
    "ob `n` die Fakultät dieses `x` ist. Falls ja, kann vorzeitig abgebrochen werden, da der Beweis erbracht ist, dass `n` eine Fakultät ist.\n",
    "Falls die Schleife aber durchläuft, ohne dass so ein `x` gefunden wurde, dann ist `n` keine Fakultät.\n",
    "\n",
    "**Anmerkung:** In der Funktion gibt es zwei Zeilen, die mit einem `#` beginnen. Diese Zeilen sind *Kommentare*, sie werden bei der Ausführung des Programms ignoriert. Solche Kommentare kann (und sollte!) man benutzen, um den Code mit Anmerkungen und Erklärungen zu versehen, um die Lesbarkeit zu erhöhen."
   ]
  },
  {
   "cell_type": "code",
   "execution_count": null,
   "metadata": {
    "collapsed": false,
    "jupyter": {
     "outputs_hidden": false
    }
   },
   "outputs": [],
   "source": []
  }
 ],
 "metadata": {
  "kernelspec": {
   "display_name": "Python 3 (system-wide)",
   "language": "python",
   "name": "python3"
  },
  "language_info": {
   "codemirror_mode": {
    "name": "ipython",
    "version": 3
   },
   "file_extension": ".py",
   "mimetype": "text/x-python",
   "name": "python",
   "nbconvert_exporter": "python",
   "pygments_lexer": "ipython3",
   "version": "3.8.2"
  }
 },
 "nbformat": 4,
 "nbformat_minor": 4
}
