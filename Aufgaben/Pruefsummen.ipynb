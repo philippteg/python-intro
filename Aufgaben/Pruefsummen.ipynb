{
 "cells": [
  {
   "cell_type": "markdown",
   "metadata": {},
   "source": [
    "# Aufgaben zu Prüfsummen\n",
    "\n",
    "In diesem Notebook befinden sich einige Aufgaben, die sich mit den mathematischen Eigenschaften von Zahlen und Listen beschäftigen.\n",
    "Es sind für sich gesehen relativ einfache Aufgaben, deren Kombination am Ende einen\n",
    "nützlichen Algorithmus zur Berechnung und Prüfung von sog. *Prüfsummen* ergibt.\n",
    "Prüsummen werden bspw. bei der automatisierten Datenverarbeitung verwendet, um Übertragungs- oder Lesefehler zu erkennen.\n",
    "\n",
    "**Hinweis:** Diese Aufgaben kann man jeweils direkt mit einer Schleife lösen.\n",
    "Eleganter sind List Comprehensions und die Aufgaben bauen auch aufeinander auf.\n",
    "D.h. es bietet sich an, für die Lösung einer Aufgabe jeweils die vorherigen zu benutzen."
   ]
  },
  {
   "cell_type": "markdown",
   "metadata": {},
   "source": [
    "### Aufgabe 1: Komponentenweises Produkt von Vektoren\n",
    "\n",
    "Schreiben Sie eine Funktion, die zwei gleichlange Listen von Zahlen `l1` und `l2` erwartet. Sie soll eine Liste berechnen, deren Elemente jeweils das Produkt der enstprechenden Elemente aus `l1` und `l2` sind.\n",
    "\n",
    "Für Eingangslisten\n",
    "$[a_1, a_2, \\ldots, a_n]$\n",
    "und\n",
    "$[b_1, b_2, \\ldots, b_n]$\n",
    "soll also das Ergebnis die Liste\n",
    "$[a_1 \\cdot b_1, a_2 \\cdot b_2, \\ldots, a_n \\cdot b_n]$\n",
    "sein.\n",
    "\n",
    "**Beispiel:** Sind die Eingangslisten\n",
    "`l1 == [1,2,3,4]`\n",
    "und\n",
    "`l2 == [2,4,6,8]`,\n",
    "so soll das Ergebnis\n",
    "`[2,8,18,32]`\n",
    "sein."
   ]
  },
  {
   "cell_type": "markdown",
   "metadata": {},
   "source": [
    "### Aufgabe 2: Summe der Elemente eine Liste\n",
    "\n",
    "Schreiben Sie eine Funktion, die eine Liste erwartet und die die Summe der Elemente dieser Liste zurückliefern.\n",
    "\n",
    "**Anmerkung:** Diese Aufgabe haben wir schon besprochen, sie ist also nicht neu.\n",
    "Hier ist sie der Vollständigkeit halber enthalten, weil sie für die Folgeaufgaben nützlich ist."
   ]
  },
  {
   "cell_type": "markdown",
   "metadata": {},
   "source": [
    "### Aufgabe 3: Skalarprodukt zweier Vektoren\n",
    "\n",
    "Schreiben Sie eine Funktion, die zwei gleich lange Listen erwartet und die das Skalarprodukt dieser Listen berechnet.\n",
    "\n",
    "**Hinweis:** Es gilt:\n",
    "\\begin{align*}\n",
    "  (a_1, a_2, \\ldots, a_n) \\cdot (b_1, b_2, \\ldots, b_n)\n",
    "  = (a_1 \\cdot b_1 + a_2 \\cdot b_2 + \\ldots + a_n \\cdot b_n)\n",
    "  = \\sum_{i=0}^n a_i \\cdot b_i\n",
    "\\end{align*}\n"
   ]
  },
  {
   "cell_type": "markdown",
   "metadata": {},
   "source": [
    "### Aufgabe 4: Liste mit den Ziffern einer Zahl bestimmen\n",
    "\n",
    "Schreiben Sie eine Funktion, die eine Zahl erwartet, und die eine Liste mit den Dezimalziffern der Zahl zurückliefert.\n",
    "\n",
    "**Hinweis:** Für diese Funktion gibt es zwei Ansätze:\n",
    "1. *Der mathematische Ansatz:*\n",
    "Die letzte Ziffer einer Dezimalzahl bekommt man, indem man den Wert modulo $10$ berechnet, also den Rest bei Division durch $10$ bestimmt.\n",
    "Beispiele:\n",
    "\\begin{align*}\n",
    "  103 \\mod 10 &= 3 \\\\\n",
    "  15 \\mod 10 &= 5 \\\\\n",
    "  50424 \\mod 10 &= 4\n",
    "\\end{align*}\n",
    "Zur Erinnerung: Der Modulo-Operator in Python ist das Prozent-Zeichen (`%`)\n",
    "Man kann also eine Liste der Ziffern berechnen, indem man immer abwechselnd modulo $10$ rechnet, den Wert an eine Liste anhängt und dann die ursprüngliche Zahl durch $10$ teilt.\n",
    "\n",
    "2. *Der \"Pythonische\" Ansatz*:\n",
    "Wenn man in Python eine Zahl in einen String umwandelt, kann man das Ergebnis als eine Liste von Zeichen auffassen. Anschließend muss man nur jedes dieser Zeichen einzeln in eine Zahl zurückwandeln, um das Ergebnis zu erhalten. Mit einer List-Comprehension geht das sogar sehr elegant in einer Zeile."
   ]
  },
  {
   "cell_type": "markdown",
   "metadata": {},
   "source": [
    "### Aufgabe 5: Quersumme einer Zahl\n",
    "\n",
    "Schreiben Sie eine Funktion, die die Quersumme einer Zahl bestimmt.\n",
    "Die Funktion soll also eine Zahl erwarten und die Summe ihrer Ziffern bestimmen."
   ]
  },
  {
   "cell_type": "markdown",
   "metadata": {},
   "source": [
    "### Aufgabe 6: Gewichtete Quersumme\n",
    "\n",
    "Schreiben Sie eine Funktion, die eine Zahl und eine Liste erwartet.\n",
    "Sie dürfen annehmen, dass die Länge der Liste gleich der Anzhl der Ziffern der Zahl ist.\n",
    "\n",
    "Die Funktion soll die *gewichtete* Quersumme der Zahl mit der Liste berechnen.\n",
    "\n",
    "**Beispiel:** Es gilt `f(123,[4,5,6]) == 16`, denn $(1\\cdot 4) + (2 \\cdot 5) + (3 \\cdot 6) = 4 + 10 + 18 = 32$.\n"
   ]
  },
  {
   "cell_type": "markdown",
   "metadata": {},
   "source": [
    "### Aufgabe 7: ISBN-10-Prüfziffer berechnen\n",
    "\n",
    "Schreiben Sie eine Funktion, die eine Liste von Zahlen zwischen 1 und 9 erwartet (hier $9$ Zahlen).\n",
    "\n",
    "Die Funktion soll die Liste als eine [ISBN-10-Nummer](https://de.wikipedia.org/wiki/Internationale_Standardbuchnummer) ohne Prüfziffer auffassen und die Prüfziffer berechnen.\n",
    "\n",
    "Eine ISBN-10-Nummer besteht aus $10$ Ziffern $(a_1, a_2, \\ldots, a_{10})$, von denen die ersten $9$ das Buch identifizieren und die letzte die *Prüfziffer* ist.\n",
    "Diese berechnet sich wie folgt:\n",
    "\n",
    "\\begin{align*}\n",
    "  a_{10} = 1 \\cdot a_1 + 2 \\cdot a_2 + \\ldots + 9 \\cdot a_9 \\mod 11 = \\sum_{i=1}^9 i \\cdot a_i \\mod 11\n",
    "\\end{align*}\n",
    "\n",
    "**Hinweis:** Es handelt sich also um eine gewichtete Quersumme, von der Anschließend nur der Rest beim Dividieren durch $11$ genommen wird."
   ]
  },
  {
   "cell_type": "markdown",
   "metadata": {},
   "source": [
    "### Aufgabe 8: ISBN-10-Nummer prüfen\n",
    "\n",
    "Schreiben Sie eine Funktion, die eine Liste von Zahlen zwischen 1 und 10 erwartet (hier $10$ Zahlen).\n",
    "\n",
    "Die Funktion soll die Liste als eine [ISBN-10-Nummer](https://de.wikipedia.org/wiki/Internationale_Standardbuchnummer) ohne Prüfziffer auffassen und prüfen.\n",
    "D.h. ganz konkret soll die Funktion die Prüfsumme der ersten $9$ Zahlen bestimmen und mit der Prüfziffer vergleichen. Stimmen diese überein, soll die Funktion `True` liefern, ansonsten `False`.\n",
    "\n",
    "**Anmerkung:** Prüfsummen wie diese werden verwendet, um Lese- oder Übertragungsfehler beim Einlesen oder Senden von Daten zu erkennen. Die Nummer kann bspw. von einem Barcode-Scanner stammen oder von Hand eingetippt worden sein. Um Fehler durch Zahlendreher oder unlesbare Codes zu erkennen, verwendet man Prüfsummenverfahren wie dieses. Die EAN-Strichcodes oder die Prüfziffern auf Geldscheinen werden mit ähnlichen Verfahren geprüft."
   ]
  },
  {
   "cell_type": "code",
   "execution_count": null,
   "metadata": {},
   "outputs": [],
   "source": []
  }
 ],
 "metadata": {
  "kernelspec": {
   "display_name": "Python 3",
   "language": "python",
   "name": "python3"
  },
  "language_info": {
   "codemirror_mode": {
    "name": "ipython",
    "version": 3
   },
   "file_extension": ".py",
   "mimetype": "text/x-python",
   "name": "python",
   "nbconvert_exporter": "python",
   "pygments_lexer": "ipython3",
   "version": "3.8.2"
  }
 },
 "nbformat": 4,
 "nbformat_minor": 4
}
