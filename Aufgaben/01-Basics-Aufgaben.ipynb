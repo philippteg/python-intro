{
 "cells": [
  {
   "cell_type": "markdown",
   "metadata": {},
   "source": [
    "# Aufgaben zum Kapitel [Programmier-Grundlagen](../Intro-Notebooks/01-Basics.ipynb)\n",
    "\n",
    "Die folgenden Aufgaben sollen die Konzepte aus dem Grundlagenkapitel vertiefen.\n",
    "Orientieren Sie sich dabei an den dortigen Beispielen, die Lösungen hier können auf ähnliche Weise wie dort formuliert werden."
   ]
  },
  {
   "cell_type": "markdown",
   "metadata": {},
   "source": [
    "## Aufgaben zu [Variablen](../Intro-Notebooks/01-Basics.ipynb#Variablen)"
   ]
  },
  {
   "cell_type": "markdown",
   "metadata": {},
   "source": [
    "### Gültigkeit von Ausdrücken"
   ]
  },
  {
   "cell_type": "markdown",
   "metadata": {},
   "source": [
    "Welche der folgenden Ausdrücke sind gültig?\n",
    "D.h. welche Ausdrücke sind gültige Python-Anweisungen bzw. können in Python ausgewertet werden, so dass mit dem Ergebnis weitergerechnet werden kann?\n",
    "\n",
    "Überlegen sie sich zuerst Ihre Antworten und prüfen Sie sie dann, indem Sie die folgenden Code-Zellen auswerten lassen. Wenn bei der Auswertung kein Fehler angezeigt wird, ist der Ausdruck gültig. Im Fehlerfall versuchen Sie bitte auch, die Fehlermeldung zu verstehen."
   ]
  },
  {
   "cell_type": "code",
   "execution_count": null,
   "metadata": {
    "collapsed": false,
    "jupyter": {
     "outputs_hidden": false
    }
   },
   "outputs": [],
   "source": [
    "x = 3"
   ]
  },
  {
   "cell_type": "code",
   "execution_count": null,
   "metadata": {
    "collapsed": false,
    "jupyter": {
     "outputs_hidden": false
    }
   },
   "outputs": [],
   "source": [
    "3+4"
   ]
  },
  {
   "cell_type": "code",
   "execution_count": null,
   "metadata": {
    "collapsed": false,
    "jupyter": {
     "outputs_hidden": false
    }
   },
   "outputs": [],
   "source": [
    "x + 7"
   ]
  },
  {
   "cell_type": "code",
   "execution_count": null,
   "metadata": {
    "collapsed": false,
    "jupyter": {
     "outputs_hidden": false
    }
   },
   "outputs": [],
   "source": [
    "3 = y"
   ]
  },
  {
   "cell_type": "code",
   "execution_count": null,
   "metadata": {
    "collapsed": false,
    "jupyter": {
     "outputs_hidden": false
    }
   },
   "outputs": [],
   "source": [
    "3 + 4 * 5"
   ]
  },
  {
   "cell_type": "code",
   "execution_count": null,
   "metadata": {
    "collapsed": false,
    "jupyter": {
     "outputs_hidden": false
    }
   },
   "outputs": [],
   "source": [
    "13 - (2 + 23)"
   ]
  },
  {
   "cell_type": "code",
   "execution_count": null,
   "metadata": {
    "collapsed": false,
    "jupyter": {
     "outputs_hidden": false
    }
   },
   "outputs": [],
   "source": [
    "28 - (3+1"
   ]
  },
  {
   "cell_type": "code",
   "execution_count": null,
   "metadata": {
    "collapsed": false,
    "jupyter": {
     "outputs_hidden": false
    }
   },
   "outputs": [],
   "source": [
    "x + 3 = 14"
   ]
  },
  {
   "cell_type": "code",
   "execution_count": null,
   "metadata": {
    "collapsed": false,
    "jupyter": {
     "outputs_hidden": false
    }
   },
   "outputs": [],
   "source": [
    "(x = 25) + 3"
   ]
  },
  {
   "cell_type": "markdown",
   "metadata": {},
   "source": [
    "## Aufgaben zu [Schleifen](../Intro-Notebooks/01-Basics.ipynb#Schleifen)"
   ]
  },
  {
   "cell_type": "markdown",
   "metadata": {},
   "source": [
    "### Produkt von geraden Zahlen\n",
    "Schreiben Sie eine Schleife, die das Produkt aller geraden Zahlen zwischen `2` und einer gegebenen Zahl `n` berechnet.  \n",
    "**Hinweis:** In der folgenden Vorgabe müssen Sie nur die richtigen Argumente für den `range()`-Ausdruck angeben.\n",
    "Das vorgegebene `n` ist nicht die korrekte Lösung."
   ]
  },
  {
   "cell_type": "code",
   "execution_count": null,
   "metadata": {
    "collapsed": false,
    "jupyter": {
     "outputs_hidden": false
    }
   },
   "outputs": [],
   "source": [
    "n = 5\n",
    "ergebnis = 1\n",
    "for i in range(n): # Hier den richtigen Bereich und ggf. eine Schrittweite angeben.\n",
    "    ergebnis = ergebnis * i\n",
    "ergebnis  # Erwartete Ausgabe für n == 5: 8 (Denn 2*4 == 8)"
   ]
  },
  {
   "cell_type": "markdown",
   "metadata": {},
   "source": [
    "### Produkt von Vielfachen von 5\n",
    "\n",
    "Schreiben Sie eine Schleife, die das Produkt aller durch $5$ teilbaren Zahlen zwischen `5` und einer gegebenen Zahl `n` berechnet.  \n",
    "**Hinweis:** Die geraden Zahlen sind die Vielfachen von $5$. Überlegen Sie sich also, wie sie die Lösung für die vorherige modifizieren können."
   ]
  },
  {
   "cell_type": "code",
   "execution_count": null,
   "metadata": {
    "collapsed": false,
    "jupyter": {
     "outputs_hidden": false
    }
   },
   "outputs": [],
   "source": []
  },
  {
   "cell_type": "markdown",
   "metadata": {},
   "source": [
    "### Summe der ersten n Quadratzahlen\n",
    "\n",
    "Schreiben Sie eine Schleife, die die Summe der ersten $n$ Quadrate berechnet.\n",
    "Beispiel: Die ersten fünf Quadrate sind\n",
    "$1^2 = 1$,\n",
    "$2^2 = 4$,\n",
    "$3^2 = 9$,\n",
    "$4^2 = 16$ und\n",
    "$5^2 = 25$,\n",
    "ihre Summe ist $55$.\n",
    "\n"
   ]
  },
  {
   "cell_type": "code",
   "execution_count": null,
   "metadata": {
    "collapsed": false,
    "jupyter": {
     "outputs_hidden": false
    }
   },
   "outputs": [],
   "source": []
  },
  {
   "cell_type": "markdown",
   "metadata": {},
   "source": [
    "### Eingaben eines Benutzers aufsummieren\n",
    "\n",
    "Schreiben Sie eine Schleife, die den Benutzer so nach Zahlen fragt, bis er eine Null eingibt.\n",
    "Am Ende soll die Summe der Zahlen ausgegeben werden."
   ]
  },
  {
   "cell_type": "code",
   "execution_count": null,
   "metadata": {
    "collapsed": false,
    "jupyter": {
     "outputs_hidden": false
    }
   },
   "outputs": [],
   "source": []
  },
  {
   "cell_type": "markdown",
   "metadata": {},
   "source": [
    "## Aufgaben zu [Funktionen](../Intro-Notebooks/01-Basics.ipynb#Funktionen)"
   ]
  },
  {
   "cell_type": "markdown",
   "metadata": {},
   "source": [
    "### Summe der Zahlen von 1 bis n\n",
    "Schreiben Sie eine Funktion, die als Parameter eine Zahl `n` erwartet.\n",
    "Die Funktion soll die Summe der Zahlen von 1 bis `n` berechnen und zurückliefern."
   ]
  },
  {
   "cell_type": "code",
   "execution_count": null,
   "metadata": {
    "collapsed": false,
    "jupyter": {
     "outputs_hidden": false
    }
   },
   "outputs": [],
   "source": []
  },
  {
   "cell_type": "markdown",
   "metadata": {},
   "source": [
    "### Summe der Zahlen von n bis m\n",
    "Schreiben Sie eine Funktion, die als Parameter zwei Zahlen `m` und `n` erwartet.\n",
    "Die Funktion soll die Summe der Zahlen von `n` bis `m` berechnen und zurückliefern.\n",
    "\n",
    "**Zusatzaufgabe:** Schreiben Sie die erste Summenfunktion von oben so um, dass sie diese neue Funktion benutzt."
   ]
  },
  {
   "cell_type": "code",
   "execution_count": null,
   "metadata": {
    "collapsed": false,
    "jupyter": {
     "outputs_hidden": false
    }
   },
   "outputs": [],
   "source": []
  },
  {
   "cell_type": "markdown",
   "metadata": {},
   "source": [
    "### Summe der geraden Zahlen von 1 bis n\n",
    "Schreiben Sie eine Funktion, die als Parameter eine Zahl `n` erwartet.\n",
    "Die Funktion soll die Summe aller geraden Zahlen von 1 bis `n` berechnen und zurückliefern."
   ]
  },
  {
   "cell_type": "code",
   "execution_count": null,
   "metadata": {
    "collapsed": false,
    "jupyter": {
     "outputs_hidden": false
    }
   },
   "outputs": [],
   "source": []
  },
  {
   "cell_type": "markdown",
   "metadata": {},
   "source": [
    "### Summe der ungeraden Zahlen von 1 bis n\n",
    "Schreiben Sie eine Funktion, die als Parameter eine Zahl `n` erwartet.\n",
    "Die Funktion soll die Summe aller ungeraden Zahlen von 1 bis `n` berechnen und zurückliefern.\n",
    "\n",
    "**Hinweis:** Sie können diese Funktion nach dem gleichen Schema schreiben, wie die bisherigen.\n",
    "Alternativ können Sie aber auch die bisherigen Funktionen nutzen, um diese neue Funktion\n",
    "sehr kurz zu formulieren."
   ]
  },
  {
   "cell_type": "code",
   "execution_count": null,
   "metadata": {
    "collapsed": false,
    "jupyter": {
     "outputs_hidden": false
    }
   },
   "outputs": [],
   "source": []
  },
  {
   "cell_type": "markdown",
   "metadata": {},
   "source": [
    "## Aufgaben zu [bedingten Sprüngen](../Intro-Notebooks/01-Basics.ipynb#If-Then-Else)"
   ]
  },
  {
   "cell_type": "markdown",
   "metadata": {},
   "source": [
    "- Prüfung von Zahlen-Eigenschaften\n",
    "  - einfache Spielereien: Größer 5, kleiner 3, Durch 4 teilbar\n",
    "  - Teilbarkeit (evtl. als Vorgabe)\n",
    "  - Primzahlen (ist n prim?)\n",
    "  - Finden von Inversen modulo p"
   ]
  },
  {
   "cell_type": "markdown",
   "metadata": {},
   "source": [
    "### Primzahltest\n",
    "\n",
    "Schreiben Sie eine Funktion `is_prime()`, die eine Zahl `n` erwartet und prüft, ob diese eine Primzahl ist.\n",
    "\n",
    "**Hinweis:** Eine Zahl ist prim, wenn sie nur durch sich selbst und 1 teilbar ist.\n",
    "Sie müssen also eine Schleife benutzen, die für alle Zahlen `i` von 2 bis `n-1` prüft,\n",
    "ob `n` durch `i` teilbar ist.\n",
    "\n",
    "**Hinweis:** Teilbarkeit kann man mit dem Modulo-Operator prüfen.\n",
    "`n` ist durch `i` teilbar, wenn der Ausdruck `n % i == 0` wahr ist."
   ]
  },
  {
   "cell_type": "code",
   "execution_count": null,
   "metadata": {},
   "outputs": [],
   "source": [
    "def is_prime(n):\n",
    "    for i in range(2,n):\n",
    "        pass # pass ist ein Platzhalter. Ersetzen Sie ihn durch ein geeignetes return-Statement.\n",
    "    # Auch am Ende der Funktion brauchen Sie ein geeignetes Return-Statement."
   ]
  },
  {
   "cell_type": "markdown",
   "metadata": {},
   "source": [
    "## Aufgaben zu [Listen](../Intro-Notebooks/01-Basics.ipynb#Listen)"
   ]
  },
  {
   "cell_type": "markdown",
   "metadata": {},
   "source": [
    "### Gerade Zahlen herausfiltern"
   ]
  },
  {
   "cell_type": "markdown",
   "metadata": {},
   "source": [
    "### Produkt aller geraden Zahlen in einer Liste"
   ]
  },
  {
   "cell_type": "markdown",
   "metadata": {},
   "source": [
    "### Liste von Primzahlen bis `n`"
   ]
  },
  {
   "cell_type": "markdown",
   "metadata": {},
   "source": [
    "### Liste von Teilern einer Zahl `n`"
   ]
  },
  {
   "cell_type": "markdown",
   "metadata": {},
   "source": [
    "### Liste von Fakultäten"
   ]
  },
  {
   "cell_type": "markdown",
   "metadata": {},
   "source": [
    "### Summe aller Zahlen einer Liste"
   ]
  },
  {
   "cell_type": "markdown",
   "metadata": {},
   "source": [
    "### Liste der Ziffern einer Zahl"
   ]
  },
  {
   "cell_type": "markdown",
   "metadata": {},
   "source": [
    "### Quersumme einer Zahl"
   ]
  },
  {
   "cell_type": "code",
   "execution_count": null,
   "metadata": {
    "collapsed": false,
    "jupyter": {
     "outputs_hidden": false
    }
   },
   "outputs": [],
   "source": []
  }
 ],
 "metadata": {
  "kernelspec": {
   "display_name": "Python 3 (system-wide)",
   "language": "python",
   "name": "python3"
  },
  "language_info": {
   "codemirror_mode": {
    "name": "ipython",
    "version": 3
   },
   "file_extension": ".py",
   "mimetype": "text/x-python",
   "name": "python",
   "nbconvert_exporter": "python",
   "pygments_lexer": "ipython3",
   "version": "3.8.2"
  }
 },
 "nbformat": 4,
 "nbformat_minor": 4
}
