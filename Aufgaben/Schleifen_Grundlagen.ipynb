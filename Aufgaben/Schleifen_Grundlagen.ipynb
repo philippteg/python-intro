{
 "cells": [
  {
   "cell_type": "markdown",
   "metadata": {},
   "source": [
    "# Aufgaben zum Warmwerden mit Schleifen\n",
    "\n",
    "In diesem Notebook finden sich Aufgaben, die den grundlegenden Umgang mit Schleifen üben sollen.\n",
    "Es werden jeweils eine Reihe von Anweisungen vorgegeben, die eine repetitive Aufgabe erfüllen.\n",
    "Ihre Aufgabe ist es nun, stattdessen eine Schleife zu schreiben, die die selbe Aufgabe erfüllt.\n",
    "Die Fortgeschrittenen-Aufgaben fordern jeweils die Angabe einer Funktion, die die Aufgabe\n",
    "in allgemeinerer Form erfüllt.\n",
    "\n",
    "Im Unterordner `Lösungen` gibt es ein Notebook mit Lösungen zu diesen Aufgaben."
   ]
  },
  {
   "cell_type": "markdown",
   "metadata": {},
   "source": [
    "## Aufgabe:\n",
    "\n",
    "Die folgenden Anweisungen geben nacheinander die Zahlen von $1$ bis $10$ auf der Konsole aus:"
   ]
  },
  {
   "cell_type": "code",
   "execution_count": null,
   "metadata": {},
   "outputs": [],
   "source": [
    "print(1)\n",
    "print(2)\n",
    "print(3)\n",
    "print(4)\n",
    "print(5)\n",
    "print(6)\n",
    "print(7)\n",
    "print(8)\n",
    "print(9)\n",
    "print(10)"
   ]
  },
  {
   "cell_type": "markdown",
   "metadata": {},
   "source": [
    "**Basis-Aufgabe:** Schreiben Sie eine Schleife, die dieselbe Ausgabe hat.  \n",
    "**Fortgeschritten:** Schreiben Sie eine Funktion, die die Anzahl der auszugebenden Zahlen als Parameter erwartet."
   ]
  },
  {
   "cell_type": "code",
   "execution_count": null,
   "metadata": {},
   "outputs": [],
   "source": []
  },
  {
   "cell_type": "markdown",
   "metadata": {},
   "source": [
    "## Aufgabe:\n",
    "\n",
    "Im Folgenden definieren wir zwei gleich lange Listen und geben Komponentenweise deren Summe aus:"
   ]
  },
  {
   "cell_type": "code",
   "execution_count": null,
   "metadata": {},
   "outputs": [],
   "source": [
    "l1 = [1,3,5,7,9]\n",
    "l2 = [2,4,6,8,10]\n",
    "\n",
    "print(l1[0] + l2[0])\n",
    "print(l1[1] + l2[1])\n",
    "print(l1[2] + l2[2])\n",
    "print(l1[3] + l2[3])\n",
    "print(l1[4] + l2[4])"
   ]
  },
  {
   "cell_type": "markdown",
   "metadata": {},
   "source": [
    "**Basis-Aufgabe:** Schreiben Sie eine Schleife, die den selben Effekt hat.  \n",
    "**Fortgeschritten:** Schreiben Sie eine Funktion, die zwei gleich lange Listen\n",
    "erwartet und die diese Summen ausgibt."
   ]
  },
  {
   "cell_type": "code",
   "execution_count": null,
   "metadata": {},
   "outputs": [],
   "source": []
  },
  {
   "cell_type": "markdown",
   "metadata": {},
   "source": [
    "## Aufgabe:\n",
    "\n",
    "Im Folgenden definieren wir einen String und geben ihn anschließend rückwärts in einzelnen Zeilen aus."
   ]
  },
  {
   "cell_type": "code",
   "execution_count": null,
   "metadata": {},
   "outputs": [],
   "source": [
    "s = \"Hallo\""
   ]
  },
  {
   "cell_type": "code",
   "execution_count": null,
   "metadata": {},
   "outputs": [],
   "source": [
    "print(s[4])\n",
    "print(s[3])\n",
    "print(s[2])\n",
    "print(s[1])\n",
    "print(s[0])"
   ]
  },
  {
   "cell_type": "markdown",
   "metadata": {},
   "source": [
    "**Basis-Aufgabe:** Schreiben Sie eine Schleife, die die selbe Ausgabe hat.  \n",
    "**Fortgeschritten:** Schreiben Sie eine Funktion, die einen String erwartet und rückwärts ausgibt."
   ]
  },
  {
   "cell_type": "code",
   "execution_count": null,
   "metadata": {},
   "outputs": [],
   "source": []
  }
 ],
 "metadata": {
  "kernelspec": {
   "display_name": "Python 3",
   "language": "python",
   "name": "python3"
  },
  "language_info": {
   "codemirror_mode": {
    "name": "ipython",
    "version": 3
   },
   "file_extension": ".py",
   "mimetype": "text/x-python",
   "name": "python",
   "nbconvert_exporter": "python",
   "pygments_lexer": "ipython3",
   "version": "3.8.2"
  }
 },
 "nbformat": 4,
 "nbformat_minor": 4
}
