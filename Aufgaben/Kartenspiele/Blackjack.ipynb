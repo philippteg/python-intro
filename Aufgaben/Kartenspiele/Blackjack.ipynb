{
 "cells": [
  {
   "cell_type": "markdown",
   "metadata": {},
   "source": [
    "# Übungsaufgaben"
   ]
  },
  {
   "cell_type": "markdown",
   "metadata": {},
   "source": [
    "## Blackjack\n",
    "\n",
    "Ziel der folgenden Aufgaben ist es, eine Implementierung des Kartenspiels *Blackjack* (oder *17 und 4*) zu entwickeln. Die grundlegenden Datenstrukturen sind dabei die gleichen, wie bei Mau Mau, Sie können sich also daran orientieren."
   ]
  },
  {
   "cell_type": "markdown",
   "metadata": {},
   "source": [
    "### Spielregeln:\n",
    "\n",
    "Das Folgende ist ein Satz einfacher Regeln für das Spiel.\n",
    "\n",
    "1. Zu Beginn bekommt jeder Spieler zwei Karten.\n",
    "2. Dann wird jeder Spieler reihum gefragt, ob er eine weitere Karte ziehen möchte.\n",
    "   - Man hat die Wahl, eine Karte zu ziehen, oder nicht.\n",
    "3. Sobald ein Spieler mehr als 21 Punkte auf der Hand hat, verliert er sofort.\n",
    "4. Sobald kein Spieler mehr ziehen will oder keiner mehr im Spiel ist, endet das Spiel.\n",
    "   Gewonnen hat der Spieler mit den meisten Punkten (bis max. 21).\n",
    "\n",
    "**Anmerkung:** In der Praxis (v.A. in Casinos) gibt es verschiedene Varianten des Spiels.\n",
    "So ist es z.B. denkbar, dass für den Geber Sonderregeln gelten, dass man bei 21 Punkten sofort gewinnt oder dass Geld oder Puntke eingesetzt werden. Dadurch bietet es sich auch an, mehrere Spiele mit den gleichen Spielern hintereinander zu spielen. Sie sind herzlich eingeladen, Sonderregeln zu implementieren, bei Fragen sind wir gerne behilflich. Die Aufgaben hier beschäftigen sich jedoch nur mit den Grundregeln."
   ]
  },
  {
   "cell_type": "markdown",
   "metadata": {},
   "source": [
    "### Aufgabe 1: Prüfung der Handkarten eines Spielers"
   ]
  },
  {
   "cell_type": "markdown",
   "metadata": {},
   "source": [
    "Schreiben Sie eine Funktion, die einen Stapel aus Handkarten eines Spielers erwartet und die prüft, ob er schon verloren hat.\n",
    "Die Funktion soll `True` zurückliefern, wenn der Spieler noch im Spiel ist."
   ]
  },
  {
   "cell_type": "markdown",
   "metadata": {},
   "source": [
    "### Aufgabe 2: Karte ziehen\n",
    "\n",
    "Schreiben Sie eine Funktion, die einen Kartenstapel und die Handkarten eines Spielers erwartet. Die Funktion soll eine Karte vom Stapel ziehen und auf die Hand des Spielers legen."
   ]
  },
  {
   "cell_type": "markdown",
   "metadata": {},
   "source": [
    "### Aufgabe 3: Zug eines Spielers durchführen\n",
    "\n",
    "Schreiben Sie eine Funktion, die einen Kartenstapel, einen Spielernamen und seine Handkarten erwartet.\n",
    "\n",
    "Die Funktion soll dem Spieler die Karten anzeigen\n",
    "und ihn fragen, ob er noch eine Karte ziehen will.\n",
    "Anschließend soll die Funktion den Zug durchführen und dem Spieler mitteilen,\n",
    "wie viele Punkte er jetzt hat und ob er noch im Spiel ist.\n",
    "\n",
    "Außerdem soll die Funktion `True` zurückliefern, falls der Spieler eine Karte gezogen hat. Ansonsten soll sie `False` liefern."
   ]
  },
  {
   "cell_type": "markdown",
   "metadata": {},
   "source": [
    "### Aufgabe 4: Einzelne Spielrunde durchführen\n",
    "\n",
    "Schreiben Sie eine Funktion,\n",
    "die einen Kartenstapel sowie eine Liste aus Paaren von jeweils Spielername und Handkarten erwartet.\n",
    "\n",
    "Die Funktion soll nacheinander den Zug jedes Spielers durchführen, der noch im Spiel ist.\n",
    "Wenn einer der Spieler noch gezogen hat, soll die Funktion `True` zurüclliefern,\n",
    "ansonsten soll sie `False` liefern."
   ]
  },
  {
   "cell_type": "markdown",
   "metadata": {},
   "source": [
    "### Aufgabe 5: Das gesamte Spiel durchführen\n",
    "\n",
    "Schreiben Sie eine Funktion, die einen Kartenstapel sowie eine Liste von Paaren aus Spielernamen und Handkarten (mit je zwei Karten) erzeugt.\n",
    "\n",
    "Die Funktion soll so lange Spielrunden durchführen, bis kein Spielzug mehr gemacht wurde.\n",
    "\n",
    "Anschließend soll die Funktion den Gewinner bestimmen."
   ]
  },
  {
   "cell_type": "markdown",
   "metadata": {},
   "source": [
    "### Bemerkungen:\n",
    "\n",
    "Diese Aufgaben sollen eine grundlegende Struktur für das Spiel vorgeben und so eine Orientierung bieten.\n",
    "\n",
    "Falls es Ihnen sinnvoll erscheint, weitere Hilfsfunktionen zu schreiben, können Sie das gerne tun. Ebenso können Sie diese Funktionen teilweise weglassen, wenn sie Ihnen nicht notwendig erscheinen. Überlegen Sie sich (ggf. anhand der Aufgaben) vor der Bearbeitung, welche Struktur das Spiel haben soll und definieren Sie entsprechende Funktionen.\n",
    "\n",
    "Zusätzlich bietet es sich an, Tests für die jeweiligen Funktionen zu schreiben, die das Verhalten isoliert prüfen."
   ]
  },
  {
   "cell_type": "code",
   "execution_count": null,
   "metadata": {},
   "outputs": [],
   "source": []
  }
 ],
 "metadata": {
  "kernelspec": {
   "display_name": "Python 3",
   "language": "python",
   "name": "python3"
  },
  "language_info": {
   "codemirror_mode": {
    "name": "ipython",
    "version": 3
   },
   "file_extension": ".py",
   "mimetype": "text/x-python",
   "name": "python",
   "nbconvert_exporter": "python",
   "pygments_lexer": "ipython3",
   "version": "3.8.2"
  }
 },
 "nbformat": 4,
 "nbformat_minor": 4
}
