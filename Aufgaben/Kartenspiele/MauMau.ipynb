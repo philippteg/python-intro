{
 "cells": [
  {
   "cell_type": "markdown",
   "metadata": {},
   "source": [
    "# Aufgaben zum MauMau-Spiel aus der Vorlesung"
   ]
  },
  {
   "cell_type": "markdown",
   "metadata": {},
   "source": [
    "### Bisheriger Stand\n",
    "\n",
    "Wir haben das Spiel in der Vorlesung (Stand 23.10.) soweit entwickelt, dass zwei Spieler immer abwechselnd Karten nach den MauMau-Regeln legen. D.h. ein Zug wird nur zugelassen, wenn entweder Farbe oder Wert der neuen Karte zu der Karte passen, die oben auf dem Ablagestapel liegt.\n",
    "\n",
    "Das bisherige Spiel enthält noch einen kleinen Fehler und es ist bisher auf genau zwei menschliche Spieler beschränkt. Mit den folgenden Aufgaben soll es erweitert werden.\n"
   ]
  },
  {
   "cell_type": "markdown",
   "metadata": {},
   "source": [
    "### Aufgabe 1: Fehlerbehebung\n",
    "\n",
    "Wenn der Kartenstapel leer ist, werden mittels der Funktion `neu_mischen()` die Karten des Ablagestapels neu gemischt und auf den Kartenstapel gelegt.\n",
    "Dabei passiert noch ein kleiner Fehler, der beim kurzen Testen in der Vorlesung nicht aufgefallen ist:\n",
    "\n",
    "Es werden alle Karten neu gemischt, so dass der Ablagestapel anschließend leer ist.\n",
    "Für das Spiel ist es allerdings wichtig, dass die oberste Karte des Ablagestapels liegen bleibt, ansonsten kann nicht weitergespielt werden.\n",
    "\n",
    "**Aufgabe:** Modifizieren Sie die Funktion `neu_mischen()`, so dass die oberste Karte des Ablagestapels liegen bleibt und nur die restlichen Karten neu gemischt werden.\n",
    "Passen Sie auch den Test für die Funktion an, so dass dieses Verhalten geprüft wird."
   ]
  },
  {
   "cell_type": "markdown",
   "metadata": {},
   "source": [
    "### Aufgabe 2: Einbau einer KI\n",
    "\n",
    "Bisher gibt es nur zwei menschliche Spieler im Spiel und\n",
    "bei jedem Zug wird dem jeweiligen Spieler sein Blatt gezeigt.\n",
    "Das funktioniert natürlich nicht so gut, wenn beide Spieler an einem Computer spielen.\n",
    "\n",
    "**Aufgabe:** Schreiben Sie eine neue Funktion `spielzug_ki()` mit der selben Signatur (den selben Parametern) wie die bisherige Funktion `spielzug()`. Benennen Sie die bisherige Funktion passend um.\n",
    "Die neue Funktion `spielzug_ki()` soll einen Computer-Spielzug machen.\n",
    "D.h. sie soll prüfen, ob sie eine ihrer Handkarten legen kann und dies ggf. tun.\n",
    "Falls keine der Karten passt, soll sie eine Karte ziehen.\n",
    "\n",
    "**Aufgabe:** Schreiben Sie eine Testfunktion für die KI, die das Verhalten prüft.\n",
    "D.h. Ihre Testfunktion sollte mehrere Beispiele für je einen Karten- und Ablagestapel sowie Handkarten vordefinieren und prüfen, ob die Testfunktion die Karte legt, die Sie erwarten, bzw. ob nur dann eine Karte gezogen wird, wenn der Spieler nicht legen kann.\n",
    "\n",
    "**Aufgabe:** Bauen Sie die neue Funktion ins Spiel ein.\n",
    "Definieren Sie dafür, welcher Spieler der Mensch ist und welcher der Computer.\n",
    "In der Hauptschleife soll dann abhängig vom Spieler die richtige Funktion ausgeführt werden.\n"
   ]
  },
  {
   "cell_type": "markdown",
   "metadata": {},
   "source": [
    "### Aufgabe 3: Erweiterung auf mehrere Spieler\n",
    "\n",
    "Das bisherige Spiel funktioniert nur mit genau zwei Spielern.\n",
    "\n",
    "**Aufgabe:** Erweitern Sie es, so dass mehrere Spieler möglich sind.\n",
    "\n",
    "**Hinweise:** Mit den bisherigen Möglichkeiten ist es sinnvoll, die Spieler als eine Liste von Paaren aus jeweils Name und Handkarten zu verwalten. D.h. Sie sollten sich eine solche  Datenstruktur definieren und sie anstelle der bisherigen Variablen für die Spieler und deren Karten verwenden. Zusätzlich müssen Sie sich explizit merken können, welcher Spieler gerade an der Reihe ist."
   ]
  },
  {
   "cell_type": "markdown",
   "metadata": {},
   "source": [
    "### Aufgabe 4: Sonderregeln\n",
    "\n",
    "Bei MauMau gibt es neben den normalen Legeregeln auch noch Sonderregeln:\n",
    "\n",
    "1. Wird eine Sieben gelegt, muss der nächste Spieler zwei Karten ziehen.  \n",
    "    Hat der nächste Spieler selbst eine Sieben, kann er sie legen, der übernächste Spieler muss dann vier Karten ziehen etc.\n",
    "2. Wird eine Acht gelegt, muss der nächste Spieler aussetzen.\n",
    "3. Wird ein Bube gelegt, darf sich der Spieler, der ihn gelegt hat, eine Farbe wünschen.\n",
    "\n",
    "**Aufgabe:** Implementieren Sie diese Sonderregeln.\n",
    "\n",
    "**Hinweise:**\n",
    "1. Gehen Sie stückweise vor: Bearbeiten Sie eine Regel nach der anderen und zerlegen Sie die Aufgabe soweit wie möglich. Für die 7er-Regel bietet es sich z.B. an, zunächst die Sonderfälle (4 ziehen, 6 ziehen etc.) zu ignorieren.\n",
    "2. Allgemeiner Ansatz: In der Hauptschleife muss nach dem Legen einer Karte und vor dem Spielerwechsel geprüft werden, ob eine Sonderregel zutrifft und diese muss abgearbeitet werden.\n",
    "3. Die 8er-Regel ist am einfachsten, d.h. es bietet sich an, damit anzufangen.\n",
    "4. Die Buben-Regel ist am kompliziertesten, weil sich dadurch die Kriterien für das Prüfen der Karten ändern. Nachdem eine Farbe gewünscht wurde, muss die gelegte Karte nicht mehr zu der auf dem Ablagestapel passen."
   ]
  },
  {
   "cell_type": "code",
   "execution_count": null,
   "metadata": {},
   "outputs": [],
   "source": [
    "\n"
   ]
  }
 ],
 "metadata": {
  "kernelspec": {
   "display_name": "Python 3",
   "language": "python",
   "name": "python3"
  },
  "language_info": {
   "codemirror_mode": {
    "name": "ipython",
    "version": 3
   },
   "file_extension": ".py",
   "mimetype": "text/x-python",
   "name": "python",
   "nbconvert_exporter": "python",
   "pygments_lexer": "ipython3",
   "version": "3.8.2"
  }
 },
 "nbformat": 4,
 "nbformat_minor": 4
}
