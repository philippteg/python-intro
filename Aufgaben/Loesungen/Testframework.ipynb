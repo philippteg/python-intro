{
 "metadata": {
  "language_info": {
   "codemirror_mode": {
    "name": "ipython",
    "version": 3
   },
   "file_extension": ".py",
   "mimetype": "text/x-python",
   "name": "python",
   "nbconvert_exporter": "python",
   "pygments_lexer": "ipython3",
   "version": 3
  },
  "orig_nbformat": 2
 },
 "nbformat": 4,
 "nbformat_minor": 2,
 "cells": [
  {
   "source": [
    "# Einfaches Testframework\n",
    "## Hintergrund\n",
    "Softwareprojekte werden schnell sehr komplex, v.a. wenn viele verschiedene Entwickler an den unterschiedlichsten Stellen zusammenarbeiten. Dabei kommt es natürlich häufig zu Fehlern.\n",
    "\n",
    "**Beispiel:** Ein Kollege hat eine Funktion entwickelt, die überprüft, ob eine Benutzereingabe leer ist "
   ],
   "cell_type": "markdown",
   "metadata": {}
  },
  {
   "cell_type": "code",
   "execution_count": null,
   "metadata": {},
   "outputs": [],
   "source": [
    "def is_valid_input(user_input):\n",
    "    return user_input != \"\"\n",
    "\n",
    "print(is_valid_input(\"\")) # wir erwarten die Ausgabe 'False'\n",
    "print(is_valid_input(\"Hello World\")) # wir erwarten die Ausgabe 'True'"
   ]
  },
  {
   "source": [
    "Nun möchten Sie die Funktion erweitern um zu überprüfen, ob der Benutzer eine leere Eingabe oder eine Null (\"0\") eingegeben hat, da diese in Ihrem Teil der Anwendung ebenfalls als \"leer\" interpretiert werden soll. Das ist schnell implementiert:"
   ],
   "cell_type": "markdown",
   "metadata": {}
  },
  {
   "cell_type": "code",
   "execution_count": null,
   "metadata": {},
   "outputs": [],
   "source": [
    "def is_valid_input(user_input):\n",
    "    return user_input != \"\" and user_input != \"0\"\n",
    "\n",
    "print(is_valid_input(\"\")) # wir erwarten die Ausgabe 'False'\n",
    "print(is_valid_input(\"0\")) # wir erwarten die Ausgabe 'False'\n",
    "print(is_valid_input(\"Hello World\")) # wir erwarten die Ausgabe 'True'"
   ]
  },
  {
   "source": [
    "Super, wir haben unsere Änderung eingebaut!\n",
    "\n",
    "Wenige Stunden nach der Veröffentlichung des Updates für Ihr Programm erhalten Sie einen wütenden Anruf von einem Kunden, da der Wert \"0\" für das Feld \"Kundenrabatt\" nicht mehr akzeptiert wird und er dadurch seine Änderungen nicht speichern kann.\n",
    "\n",
    "Beim Programmieren versucht man, Funktionen und Module so allgemein wie möglich (und nötig) zu halten, um diese an unterschiedlichen Stellen im Programm wiederverwenden zu können. Beispielsweise macht es keinen Sinn, wenn jeder Programmierer seine eigene `is_valid_input()`-Funktion entwickeln muss. Durch die Verwendung einer Funktion bzw. eines Moduls an unterschiedlichen Stellen in einer Software muss jederzeit sichergestellt sein, dass das vom Programmierer erwartete Ergebnis bei einer definierten Eingabe immer sichergestellt ist - genau dies haben wir nicht berücksichtigt.\n",
    "\n",
    "Natürlich kann man solche wichtigen Informationen in Kommentaren oder anderweitiger Dokumentation festhalten, das wird allerdings bei größeren Projekten mit hunderten oder mehr Entwicklern trotzdem nicht funktionieren.\n",
    "**Beispiel:** Das Betriebssystem Microsoft Windows 7 besteht aus ca. 40 Millionen Codezeilen, die Linux-Distribution Debian, von der beispielsweise auch Ubuntu abstammt, besteht sogar aus ca. 324 Millionen Codezeilen (siehe [\"Lines of Code\" auf Wikipedia](https://de.wikipedia.org/wiki/Lines_of_Code)).\n",
    "\n",
    "Aus diesem Grund gibt es Testframeworks, mit denen man das erwartete Resultat in Abhängigkeit eines Testfalls beschreiben kann. Beispielsweise lege ich fest, dass die Funktion `is_empty(user_input)` bei einem leeren String für `user_input` immer `False` zurückgeben soll und ich für jede andere Eingabe `True` erwarte."
   ],
   "cell_type": "markdown",
   "metadata": {}
  },
  {
   "source": [
    "## AUFGABE: Allgemeine Testfunktion\n",
    "Für unserer einfaches Testframework benötigen wir eine Funktion (`assert_1()`, engl. für \"behaupten\" oder \"versichern\"), die einen Parameter erwartet und für diesen zurückgibt, ob er `True` oder `False` ist. Beispielsweise soll sie für die Eingabe `is_valid_input(\"\") == False` den Wert `True` zurückgeben, da unser Test damit erfolgreich ist. Zur Erinnerung: `is_valid_input(user_input)` gibt nur `True` zurück, wenn der Eingabestring nicht leer (`\"\"`) ist."
   ],
   "cell_type": "markdown",
   "metadata": {}
  },
  {
   "cell_type": "code",
   "execution_count": null,
   "metadata": {},
   "outputs": [],
   "source": [
    "# Hinweis: Wir nehmen die nicht modifizierte Version von 'is_valid_input(user_input)'\n",
    "\n",
    "def assert_1(statement):\n",
    "  return statement # das war zu einfach ;-)\n",
    "\n",
    "print(assert_1(is_valid_input(\"\") == True)) # gibt 'False' aus\n",
    "print(assert_1(is_valid_input(\"DHBW\") == True)) # gibt 'True' aus\n",
    "print(assert_1(is_valid_input(\"DHBW\") == False)) # gibt 'False' aus"
   ]
  },
  {
   "source": [
    "Wenn wir in unserem Projekt zu einem späteren Zeitpunkt mehrere Funktionen mit unterschiedlichen Testfällen testen ist es natürlich auch interessant, wie viele Fehler aufgetreten sind. Aus diesem Grund ist die `assert_1()`-Funktion so anzupassen, dass diese den Wert `1` (Hinweis: Integer, denn wir wollen damit rechnen) zurückgibt, falls der Test nicht erfolgreich war. In diesem Fall soll auch eine Fehlermeldung an der Konsole ausgegeben werden.\n",
    "\n",
    "**Beispiel:** "
   ],
   "cell_type": "markdown",
   "metadata": {}
  },
  {
   "cell_type": "code",
   "execution_count": null,
   "metadata": {},
   "outputs": [],
   "source": [
    "error_counter = 0\n",
    "error_counter += assert_1(is_valid_input(\"\") == False) # + 1 Fehler\n",
    "error_counter += assert_1(is_valid_input(\"DHBW\") == True) # kein Fehler\n",
    "error_counter += assert_1(is_valid_input(\"DHBW\") == False) # + 1 Fehler\n",
    "print(error_counter) # erwartete Ausgabe ist '2' "
   ]
  },
  {
   "cell_type": "code",
   "execution_count": null,
   "metadata": {},
   "outputs": [],
   "source": [
    "def assert_1(statement):\n",
    "    if(statement):\n",
    "        return 0\n",
    "    else:\n",
    "        print(\"Der Test ist fehlgeschlagen!\")\n",
    "        return 1\n",
    "    # oder: return 0 if statement else 1\n",
    "\n",
    "error_counter = 0\n",
    "\n",
    "error_counter += assert_1(is_valid_input(\"\") == True)\n",
    "error_counter += assert_1(is_valid_input(\"DHBW\") == True)\n",
    "error_counter += assert_1(is_valid_input(\"DHBW\") == False)\n",
    "print(error_counter) # erwartete Ausgabe ist '2'"
   ]
  },
  {
   "source": [
    "Um die Lesbarkeit des Codes zu erhöhen und die Funktionssignatur (Name, Anzahl, Art und Reihenfolge der Parameter, siehe z. B. [Mozilla Developer Network](https://developer.mozilla.org/en-US/docs/Glossary/Signature/Function)) verständlicher zu gestalten, soll die Funktion `assert_2()` nun zwei Parameter erwarten: den erwarteten Wert (`expected`) und den tatsächlichen Wert (`actual`). Der erwartete Wert ist bei `is_valid_input(\"\")` `False` und bei `is_valid_input(\"DHBW\")` `True`. Im Funktionsrumpf, d.h. im eingerückten Block unterhalb der Funktionsdefinition, muss nun der Vergleich von `expected` und `actual` stattfinden und entsprechend `0` (kein Fehler) oder `1` (Fehler) zurückgegeben werden. Auch hier soll im Fehlerfall eine Fehlermeldung an der Konsole ausgegeben werden."
   ],
   "cell_type": "markdown",
   "metadata": {}
  },
  {
   "cell_type": "code",
   "execution_count": null,
   "metadata": {},
   "outputs": [],
   "source": [
    "def assert_2(expected, actual):\n",
    "    if(expected == actual):\n",
    "        return 0\n",
    "    else:\n",
    "        print(\"Der Test ist fehlgeschlagen!\")\n",
    "        return 1\n",
    "\n",
    "error_counter = 0\n",
    "\n",
    "error_counter += assert_2(True, is_valid_input(\"\"))\n",
    "error_counter += assert_2(True, is_valid_input(\"DHBW\"))\n",
    "error_counter += assert_2(False, is_valid_input(\"DHBW\"))\n",
    "print(error_counter) # erwartete Ausgabe ist '2'"
   ]
  },
  {
   "source": [
    "In der nächsten Ausbaustufe soll die Funktion (`assert_3()`) so erweitert werden, dass diese als dritten Parameter eine `error_message` erwartet, die im Fehlerfall an der Konsole ausgegeben wird. Diese Fehlermeldung soll Platzhalter (Hinweis: `{}`) für den erwarteten Wert (`expected`) und den tatsächlichen Wert (`actual`) enthalten."
   ],
   "cell_type": "markdown",
   "metadata": {}
  },
  {
   "cell_type": "code",
   "execution_count": null,
   "metadata": {},
   "outputs": [],
   "source": [
    "def assert_3(expected, actual, error_message):\n",
    "    if(expected == actual):\n",
    "        return 0\n",
    "    else:\n",
    "        print(error_message.format(actual, expected))\n",
    "        return 1\n",
    "\n",
    "error_counter = 0\n",
    "\n",
    "error_counter += assert_3(True, is_valid_input(\"\"), \"Der Wert {} entspricht nicht dem erwarteten Wert {}!\")\n",
    "error_counter += assert_3(True, is_valid_input(\"DHBW\"), \"Der Wert {} entspricht nicht dem erwarteten Wert {}!\")\n",
    "error_counter += assert_3(False, is_valid_input(\"DHBW\"), \"Der Wert {} entspricht nicht dem erwarteten Wert {}!\")\n",
    "print(error_counter) # erwartete Ausgabe ist '2'"
   ]
  }
 ]
}